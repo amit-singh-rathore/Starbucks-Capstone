{
  "nbformat": 4,
  "nbformat_minor": 0,
  "metadata": {
    "kernelspec": {
      "display_name": "Python 3",
      "language": "python",
      "name": "python3"
    },
    "language_info": {
      "codemirror_mode": {
        "name": "ipython",
        "version": 3
      },
      "file_extension": ".py",
      "mimetype": "text/x-python",
      "name": "python",
      "nbconvert_exporter": "python",
      "pygments_lexer": "ipython3",
      "version": "3.6.3"
    },
    "colab": {
      "name": "Starbucks_Capstone_notebook.ipynb",
      "provenance": [],
      "collapsed_sections": []
    }
  },
  "cells": [
    {
      "cell_type": "markdown",
      "metadata": {
        "id": "ajC5TZvjKY3v"
      },
      "source": [
        "# Starbucks Capstone Challenge\n",
        "\n",
        "### Introduction\n",
        "\n",
        "This data set contains simulated data that mimics customer behavior on the Starbucks rewards mobile app. Once every few days, Starbucks sends out an offer to users of the mobile app. An offer can be merely an advertisement for a drink or an actual offer such as a discount or BOGO (buy one get one free). Some users might not receive any offer during certain weeks. \n",
        "\n",
        "Not all users receive the same offer, and that is the challenge to solve with this data set.\n",
        "\n",
        "Your task is to combine transaction, demographic and offer data to determine which demographic groups respond best to which offer type. This data set is a simplified version of the real Starbucks app because the underlying simulator only has one product whereas Starbucks actually sells dozens of products.\n",
        "\n",
        "Every offer has a validity period before the offer expires. As an example, a BOGO offer might be valid for only 5 days. You'll see in the data set that informational offers have a validity period even though these ads are merely providing information about a product; for example, if an informational offer has 7 days of validity, you can assume the customer is feeling the influence of the offer for 7 days after receiving the advertisement.\n",
        "\n",
        "You'll be given transactional data showing user purchases made on the app including the timestamp of purchase and the amount of money spent on a purchase. This transactional data also has a record for each offer that a user receives as well as a record for when a user actually views the offer. There are also records for when a user completes an offer. \n",
        "\n",
        "Keep in mind as well that someone using the app might make a purchase through the app without having received an offer or seen an offer.\n",
        "\n",
        "### Example\n",
        "\n",
        "To give an example, a user could receive a discount offer buy 10 dollars get 2 off on Monday. The offer is valid for 10 days from receipt. If the customer accumulates at least 10 dollars in purchases during the validity period, the customer completes the offer.\n",
        "\n",
        "However, there are a few things to watch out for in this data set. Customers do not opt into the offers that they receive; in other words, a user can receive an offer, never actually view the offer, and still complete the offer. For example, a user might receive the \"buy 10 dollars get 2 dollars off offer\", but the user never opens the offer during the 10 day validity period. The customer spends 15 dollars during those ten days. There will be an offer completion record in the data set; however, the customer was not influenced by the offer because the customer never viewed the offer.\n",
        "\n",
        "### Cleaning\n",
        "\n",
        "This makes data cleaning especially important and tricky.\n",
        "\n",
        "You'll also want to take into account that some demographic groups will make purchases even if they don't receive an offer. From a business perspective, if a customer is going to make a 10 dollar purchase without an offer anyway, you wouldn't want to send a buy 10 dollars get 2 dollars off offer. You'll want to try to assess what a certain demographic group will buy when not receiving any offers.\n",
        "\n",
        "### Final Advice\n",
        "\n",
        "Because this is a capstone project, you are free to analyze the data any way you see fit. For example, you could build a machine learning model that predicts how much someone will spend based on demographics and offer type. Or you could build a model that predicts whether or not someone will respond to an offer. Or, you don't need to build a machine learning model at all. You could develop a set of heuristics that determine what offer you should send to each customer (i.e., 75 percent of women customers who were 35 years old responded to offer A vs 40 percent from the same demographic to offer B, so send offer A)."
      ]
    },
    {
      "cell_type": "markdown",
      "metadata": {
        "id": "bwfNNCq8KY3v"
      },
      "source": [
        "# Data Sets\n",
        "\n",
        "The data is contained in three files:\n",
        "\n",
        "* portfolio.json - containing offer ids and meta data about each offer (duration, type, etc.)\n",
        "* profile.json - demographic data for each customer\n",
        "* transcript.json - records for transactions, offers received, offers viewed, and offers completed\n",
        "\n",
        "Here is the schema and explanation of each variable in the files:\n",
        "\n",
        "**portfolio.json**\n",
        "* id (string) - offer id\n",
        "* offer_type (string) - type of offer ie BOGO, discount, informational\n",
        "* difficulty (int) - minimum required spend to complete an offer\n",
        "* reward (int) - reward given for completing an offer\n",
        "* duration (int) - time for offer to be open, in days\n",
        "* channels (list of strings)\n",
        "\n",
        "**profile.json**\n",
        "* age (int) - age of the customer \n",
        "* became_member_on (int) - date when customer created an app account\n",
        "* gender (str) - gender of the customer (note some entries contain 'O' for other rather than M or F)\n",
        "* id (str) - customer id\n",
        "* income (float) - customer's income\n",
        "\n",
        "**transcript.json**\n",
        "* event (str) - record description (ie transaction, offer received, offer viewed, etc.)\n",
        "* person (str) - customer id\n",
        "* time (int) - time in hours since start of test. The data begins at time t=0\n",
        "* value - (dict of strings) - either an offer id or transaction amount depending on the record"
      ]
    },
    {
      "cell_type": "code",
      "metadata": {
        "id": "-rDUFaSTKY3v"
      },
      "source": [
        "# Import required libraries\n",
        "from datetime import datetime\n",
        "import json\n",
        "import math\n",
        "import matplotlib.pyplot as plt\n",
        "import numpy as np\n",
        "import pandas as pd\n",
        "import seaborn as sns\n",
        "\n",
        "from sklearn.ensemble import RandomForestClassifier\n",
        "from sklearn.linear_model import LogisticRegression \n",
        "from sklearn.metrics import fbeta_score, accuracy_score\n",
        "from sklearn.model_selection import cross_val_score\n",
        "from sklearn.model_selection import train_test_split\n",
        "from sklearn.neighbors import KNeighborsClassifier\n",
        "from sklearn.preprocessing import MinMaxScaler\n",
        "from sklearn.tree import DecisionTreeClassifier\n",
        "\n",
        "import warnings\n",
        "warnings.filterwarnings('ignore')\n",
        "% matplotlib inline"
      ],
      "execution_count": 1,
      "outputs": []
    },
    {
      "cell_type": "markdown",
      "metadata": {
        "id": "QCrCMKb1Lx_G"
      },
      "source": [
        "##Data Loading"
      ]
    },
    {
      "cell_type": "code",
      "metadata": {
        "id": "Z9hwi5hXLkjy"
      },
      "source": [
        "# Load the json files for processing\n",
        "portfolio = pd.read_json('data/portfolio.json', orient='records', lines=True)\n",
        "profile = pd.read_json('data/profile.json', orient='records', lines=True)\n",
        "transcript = pd.read_json('data/transcript.json', orient='records', lines=True)"
      ],
      "execution_count": 2,
      "outputs": []
    },
    {
      "cell_type": "markdown",
      "metadata": {
        "id": "A_Kx46pfKY3v"
      },
      "source": [
        "# Data Exploration"
      ]
    },
    {
      "cell_type": "markdown",
      "metadata": {
        "id": "dvxJA2C2KY3v"
      },
      "source": [
        "## Portfolio"
      ]
    },
    {
      "cell_type": "code",
      "metadata": {
        "colab": {
          "base_uri": "https://localhost:8080/",
          "height": 195
        },
        "id": "vzmh97HBKY3v",
        "outputId": "c912f07c-30cd-48ab-fc17-5400ec804723"
      },
      "source": [
        "portfolio.head()"
      ],
      "execution_count": 3,
      "outputs": [
        {
          "output_type": "execute_result",
          "data": {
            "text/html": [
              "<div>\n",
              "<style scoped>\n",
              "    .dataframe tbody tr th:only-of-type {\n",
              "        vertical-align: middle;\n",
              "    }\n",
              "\n",
              "    .dataframe tbody tr th {\n",
              "        vertical-align: top;\n",
              "    }\n",
              "\n",
              "    .dataframe thead th {\n",
              "        text-align: right;\n",
              "    }\n",
              "</style>\n",
              "<table border=\"1\" class=\"dataframe\">\n",
              "  <thead>\n",
              "    <tr style=\"text-align: right;\">\n",
              "      <th></th>\n",
              "      <th>reward</th>\n",
              "      <th>channels</th>\n",
              "      <th>difficulty</th>\n",
              "      <th>duration</th>\n",
              "      <th>offer_type</th>\n",
              "      <th>id</th>\n",
              "    </tr>\n",
              "  </thead>\n",
              "  <tbody>\n",
              "    <tr>\n",
              "      <th>0</th>\n",
              "      <td>10</td>\n",
              "      <td>[email, mobile, social]</td>\n",
              "      <td>10</td>\n",
              "      <td>7</td>\n",
              "      <td>bogo</td>\n",
              "      <td>ae264e3637204a6fb9bb56bc8210ddfd</td>\n",
              "    </tr>\n",
              "    <tr>\n",
              "      <th>1</th>\n",
              "      <td>10</td>\n",
              "      <td>[web, email, mobile, social]</td>\n",
              "      <td>10</td>\n",
              "      <td>5</td>\n",
              "      <td>bogo</td>\n",
              "      <td>4d5c57ea9a6940dd891ad53e9dbe8da0</td>\n",
              "    </tr>\n",
              "    <tr>\n",
              "      <th>2</th>\n",
              "      <td>0</td>\n",
              "      <td>[web, email, mobile]</td>\n",
              "      <td>0</td>\n",
              "      <td>4</td>\n",
              "      <td>informational</td>\n",
              "      <td>3f207df678b143eea3cee63160fa8bed</td>\n",
              "    </tr>\n",
              "    <tr>\n",
              "      <th>3</th>\n",
              "      <td>5</td>\n",
              "      <td>[web, email, mobile]</td>\n",
              "      <td>5</td>\n",
              "      <td>7</td>\n",
              "      <td>bogo</td>\n",
              "      <td>9b98b8c7a33c4b65b9aebfe6a799e6d9</td>\n",
              "    </tr>\n",
              "    <tr>\n",
              "      <th>4</th>\n",
              "      <td>5</td>\n",
              "      <td>[web, email]</td>\n",
              "      <td>20</td>\n",
              "      <td>10</td>\n",
              "      <td>discount</td>\n",
              "      <td>0b1e1539f2cc45b7b9fa7c272da2e1d7</td>\n",
              "    </tr>\n",
              "  </tbody>\n",
              "</table>\n",
              "</div>"
            ],
            "text/plain": [
              "   reward  ...                                id\n",
              "0      10  ...  ae264e3637204a6fb9bb56bc8210ddfd\n",
              "1      10  ...  4d5c57ea9a6940dd891ad53e9dbe8da0\n",
              "2       0  ...  3f207df678b143eea3cee63160fa8bed\n",
              "3       5  ...  9b98b8c7a33c4b65b9aebfe6a799e6d9\n",
              "4       5  ...  0b1e1539f2cc45b7b9fa7c272da2e1d7\n",
              "\n",
              "[5 rows x 6 columns]"
            ]
          },
          "metadata": {
            "tags": []
          },
          "execution_count": 3
        }
      ]
    },
    {
      "cell_type": "code",
      "metadata": {
        "colab": {
          "base_uri": "https://localhost:8080/"
        },
        "id": "yHoPdoP6KY3v",
        "outputId": "764319d7-33dd-4bd4-8510-4c1dbfca061f"
      },
      "source": [
        "items, attributes = portfolio.shape\n",
        "print(\"Portfolio dataset has {} records and {} attributes\".format(items, attributes))"
      ],
      "execution_count": 4,
      "outputs": [
        {
          "output_type": "stream",
          "text": [
            "Portfolio dataset has 10 records and 6 attributes\n"
          ],
          "name": "stdout"
        }
      ]
    },
    {
      "cell_type": "code",
      "metadata": {
        "colab": {
          "base_uri": "https://localhost:8080/"
        },
        "id": "DDAm56e1KY3v",
        "outputId": "19b9088b-e3d6-46f4-fcb2-d8bdc791946a"
      },
      "source": [
        "portfolio.info()"
      ],
      "execution_count": 5,
      "outputs": [
        {
          "output_type": "stream",
          "text": [
            "<class 'pandas.core.frame.DataFrame'>\n",
            "RangeIndex: 10 entries, 0 to 9\n",
            "Data columns (total 6 columns):\n",
            " #   Column      Non-Null Count  Dtype \n",
            "---  ------      --------------  ----- \n",
            " 0   reward      10 non-null     int64 \n",
            " 1   channels    10 non-null     object\n",
            " 2   difficulty  10 non-null     int64 \n",
            " 3   duration    10 non-null     int64 \n",
            " 4   offer_type  10 non-null     object\n",
            " 5   id          10 non-null     object\n",
            "dtypes: int64(3), object(3)\n",
            "memory usage: 608.0+ bytes\n"
          ],
          "name": "stdout"
        }
      ]
    },
    {
      "cell_type": "code",
      "metadata": {
        "colab": {
          "base_uri": "https://localhost:8080/",
          "height": 373
        },
        "id": "LOr0DElGKY3v",
        "outputId": "5dd3fc9c-089e-4d6b-b3b0-afd150481fa0"
      },
      "source": [
        "portfolio.describe(include='all')"
      ],
      "execution_count": 6,
      "outputs": [
        {
          "output_type": "execute_result",
          "data": {
            "text/html": [
              "<div>\n",
              "<style scoped>\n",
              "    .dataframe tbody tr th:only-of-type {\n",
              "        vertical-align: middle;\n",
              "    }\n",
              "\n",
              "    .dataframe tbody tr th {\n",
              "        vertical-align: top;\n",
              "    }\n",
              "\n",
              "    .dataframe thead th {\n",
              "        text-align: right;\n",
              "    }\n",
              "</style>\n",
              "<table border=\"1\" class=\"dataframe\">\n",
              "  <thead>\n",
              "    <tr style=\"text-align: right;\">\n",
              "      <th></th>\n",
              "      <th>reward</th>\n",
              "      <th>channels</th>\n",
              "      <th>difficulty</th>\n",
              "      <th>duration</th>\n",
              "      <th>offer_type</th>\n",
              "      <th>id</th>\n",
              "    </tr>\n",
              "  </thead>\n",
              "  <tbody>\n",
              "    <tr>\n",
              "      <th>count</th>\n",
              "      <td>10.000000</td>\n",
              "      <td>10</td>\n",
              "      <td>10.000000</td>\n",
              "      <td>10.000000</td>\n",
              "      <td>10</td>\n",
              "      <td>10</td>\n",
              "    </tr>\n",
              "    <tr>\n",
              "      <th>unique</th>\n",
              "      <td>NaN</td>\n",
              "      <td>4</td>\n",
              "      <td>NaN</td>\n",
              "      <td>NaN</td>\n",
              "      <td>3</td>\n",
              "      <td>10</td>\n",
              "    </tr>\n",
              "    <tr>\n",
              "      <th>top</th>\n",
              "      <td>NaN</td>\n",
              "      <td>[web, email, mobile, social]</td>\n",
              "      <td>NaN</td>\n",
              "      <td>NaN</td>\n",
              "      <td>discount</td>\n",
              "      <td>2906b810c7d4411798c6938adc9daaa5</td>\n",
              "    </tr>\n",
              "    <tr>\n",
              "      <th>freq</th>\n",
              "      <td>NaN</td>\n",
              "      <td>4</td>\n",
              "      <td>NaN</td>\n",
              "      <td>NaN</td>\n",
              "      <td>4</td>\n",
              "      <td>1</td>\n",
              "    </tr>\n",
              "    <tr>\n",
              "      <th>mean</th>\n",
              "      <td>4.200000</td>\n",
              "      <td>NaN</td>\n",
              "      <td>7.700000</td>\n",
              "      <td>6.500000</td>\n",
              "      <td>NaN</td>\n",
              "      <td>NaN</td>\n",
              "    </tr>\n",
              "    <tr>\n",
              "      <th>std</th>\n",
              "      <td>3.583915</td>\n",
              "      <td>NaN</td>\n",
              "      <td>5.831905</td>\n",
              "      <td>2.321398</td>\n",
              "      <td>NaN</td>\n",
              "      <td>NaN</td>\n",
              "    </tr>\n",
              "    <tr>\n",
              "      <th>min</th>\n",
              "      <td>0.000000</td>\n",
              "      <td>NaN</td>\n",
              "      <td>0.000000</td>\n",
              "      <td>3.000000</td>\n",
              "      <td>NaN</td>\n",
              "      <td>NaN</td>\n",
              "    </tr>\n",
              "    <tr>\n",
              "      <th>25%</th>\n",
              "      <td>2.000000</td>\n",
              "      <td>NaN</td>\n",
              "      <td>5.000000</td>\n",
              "      <td>5.000000</td>\n",
              "      <td>NaN</td>\n",
              "      <td>NaN</td>\n",
              "    </tr>\n",
              "    <tr>\n",
              "      <th>50%</th>\n",
              "      <td>4.000000</td>\n",
              "      <td>NaN</td>\n",
              "      <td>8.500000</td>\n",
              "      <td>7.000000</td>\n",
              "      <td>NaN</td>\n",
              "      <td>NaN</td>\n",
              "    </tr>\n",
              "    <tr>\n",
              "      <th>75%</th>\n",
              "      <td>5.000000</td>\n",
              "      <td>NaN</td>\n",
              "      <td>10.000000</td>\n",
              "      <td>7.000000</td>\n",
              "      <td>NaN</td>\n",
              "      <td>NaN</td>\n",
              "    </tr>\n",
              "    <tr>\n",
              "      <th>max</th>\n",
              "      <td>10.000000</td>\n",
              "      <td>NaN</td>\n",
              "      <td>20.000000</td>\n",
              "      <td>10.000000</td>\n",
              "      <td>NaN</td>\n",
              "      <td>NaN</td>\n",
              "    </tr>\n",
              "  </tbody>\n",
              "</table>\n",
              "</div>"
            ],
            "text/plain": [
              "           reward  ...                                id\n",
              "count   10.000000  ...                                10\n",
              "unique        NaN  ...                                10\n",
              "top           NaN  ...  2906b810c7d4411798c6938adc9daaa5\n",
              "freq          NaN  ...                                 1\n",
              "mean     4.200000  ...                               NaN\n",
              "std      3.583915  ...                               NaN\n",
              "min      0.000000  ...                               NaN\n",
              "25%      2.000000  ...                               NaN\n",
              "50%      4.000000  ...                               NaN\n",
              "75%      5.000000  ...                               NaN\n",
              "max     10.000000  ...                               NaN\n",
              "\n",
              "[11 rows x 6 columns]"
            ]
          },
          "metadata": {
            "tags": []
          },
          "execution_count": 6
        }
      ]
    },
    {
      "cell_type": "code",
      "metadata": {
        "colab": {
          "base_uri": "https://localhost:8080/",
          "height": 314
        },
        "id": "WXvBQnHxKY3v",
        "outputId": "ee492208-8862-4325-ccc5-de74df044946"
      },
      "source": [
        "plt.figure(figsize=[5,5])\n",
        "fig, ax = plt.subplots()    \n",
        "category_count = portfolio.offer_type.value_counts()\n",
        "category_count.plot(kind='barh')   \n",
        "for i, count in enumerate(category_count):\n",
        "  ax.text(count, i, str(count))\n",
        "plt.title(\"Offer distribution per offer Type\")"
      ],
      "execution_count": 7,
      "outputs": [
        {
          "output_type": "execute_result",
          "data": {
            "text/plain": [
              "Text(0.5, 1.0, 'Offer distribution per offer Type')"
            ]
          },
          "metadata": {
            "tags": []
          },
          "execution_count": 7
        },
        {
          "output_type": "display_data",
          "data": {
            "text/plain": [
              "<Figure size 360x360 with 0 Axes>"
            ]
          },
          "metadata": {
            "tags": []
          }
        },
        {
          "output_type": "display_data",
          "data": {
            "image/png": "[encoded data removed]",
            "text/plain": [
              "<Figure size 432x288 with 1 Axes>"
            ]
          },
          "metadata": {
            "tags": [],
            "needs_background": "light"
          }
        }
      ]
    },
    {
      "cell_type": "code",
      "metadata": {
        "colab": {
          "base_uri": "https://localhost:8080/"
        },
        "id": "3EHdiMS5iZVm",
        "outputId": "6e53ec37-b9b5-43f8-f88e-173f3a703df3"
      },
      "source": [
        "#Get all possible channels\n",
        "import itertools\n",
        "set(itertools.chain.from_iterable(portfolio.channels))"
      ],
      "execution_count": 8,
      "outputs": [
        {
          "output_type": "execute_result",
          "data": {
            "text/plain": [
              "{'email', 'mobile', 'social', 'web'}"
            ]
          },
          "metadata": {
            "tags": []
          },
          "execution_count": 8
        }
      ]
    },
    {
      "cell_type": "markdown",
      "metadata": {
        "id": "MXKZzk1xKY3w"
      },
      "source": [
        "## Profile"
      ]
    },
    {
      "cell_type": "code",
      "metadata": {
        "colab": {
          "base_uri": "https://localhost:8080/",
          "height": 195
        },
        "id": "EhhWIjJwKY3w",
        "outputId": "ef3925d8-8e8c-4942-b60b-14cf87865e31"
      },
      "source": [
        "profile.head(5)"
      ],
      "execution_count": 9,
      "outputs": [
        {
          "output_type": "execute_result",
          "data": {
            "text/html": [
              "<div>\n",
              "<style scoped>\n",
              "    .dataframe tbody tr th:only-of-type {\n",
              "        vertical-align: middle;\n",
              "    }\n",
              "\n",
              "    .dataframe tbody tr th {\n",
              "        vertical-align: top;\n",
              "    }\n",
              "\n",
              "    .dataframe thead th {\n",
              "        text-align: right;\n",
              "    }\n",
              "</style>\n",
              "<table border=\"1\" class=\"dataframe\">\n",
              "  <thead>\n",
              "    <tr style=\"text-align: right;\">\n",
              "      <th></th>\n",
              "      <th>gender</th>\n",
              "      <th>age</th>\n",
              "      <th>id</th>\n",
              "      <th>became_member_on</th>\n",
              "      <th>income</th>\n",
              "    </tr>\n",
              "  </thead>\n",
              "  <tbody>\n",
              "    <tr>\n",
              "      <th>0</th>\n",
              "      <td>None</td>\n",
              "      <td>118</td>\n",
              "      <td>68be06ca386d4c31939f3a4f0e3dd783</td>\n",
              "      <td>20170212</td>\n",
              "      <td>NaN</td>\n",
              "    </tr>\n",
              "    <tr>\n",
              "      <th>1</th>\n",
              "      <td>F</td>\n",
              "      <td>55</td>\n",
              "      <td>0610b486422d4921ae7d2bf64640c50b</td>\n",
              "      <td>20170715</td>\n",
              "      <td>112000.0</td>\n",
              "    </tr>\n",
              "    <tr>\n",
              "      <th>2</th>\n",
              "      <td>None</td>\n",
              "      <td>118</td>\n",
              "      <td>38fe809add3b4fcf9315a9694bb96ff5</td>\n",
              "      <td>20180712</td>\n",
              "      <td>NaN</td>\n",
              "    </tr>\n",
              "    <tr>\n",
              "      <th>3</th>\n",
              "      <td>F</td>\n",
              "      <td>75</td>\n",
              "      <td>78afa995795e4d85b5d9ceeca43f5fef</td>\n",
              "      <td>20170509</td>\n",
              "      <td>100000.0</td>\n",
              "    </tr>\n",
              "    <tr>\n",
              "      <th>4</th>\n",
              "      <td>None</td>\n",
              "      <td>118</td>\n",
              "      <td>a03223e636434f42ac4c3df47e8bac43</td>\n",
              "      <td>20170804</td>\n",
              "      <td>NaN</td>\n",
              "    </tr>\n",
              "  </tbody>\n",
              "</table>\n",
              "</div>"
            ],
            "text/plain": [
              "  gender  age                                id  became_member_on    income\n",
              "0   None  118  68be06ca386d4c31939f3a4f0e3dd783          20170212       NaN\n",
              "1      F   55  0610b486422d4921ae7d2bf64640c50b          20170715  112000.0\n",
              "2   None  118  38fe809add3b4fcf9315a9694bb96ff5          20180712       NaN\n",
              "3      F   75  78afa995795e4d85b5d9ceeca43f5fef          20170509  100000.0\n",
              "4   None  118  a03223e636434f42ac4c3df47e8bac43          20170804       NaN"
            ]
          },
          "metadata": {
            "tags": []
          },
          "execution_count": 9
        }
      ]
    },
    {
      "cell_type": "code",
      "metadata": {
        "colab": {
          "base_uri": "https://localhost:8080/"
        },
        "id": "-Om14tHGKY3w",
        "outputId": "729adf9b-2be2-4759-9e1f-075786bb6a1a"
      },
      "source": [
        "items, attributes = profile.shape\n",
        "print(\"Portfolio dataset has {} records and {} attributes\".format(items, attributes))"
      ],
      "execution_count": 10,
      "outputs": [
        {
          "output_type": "stream",
          "text": [
            "Portfolio dataset has 17000 records and 5 attributes\n"
          ],
          "name": "stdout"
        }
      ]
    },
    {
      "cell_type": "code",
      "metadata": {
        "colab": {
          "base_uri": "https://localhost:8080/"
        },
        "id": "iTXX0knkKY3w",
        "outputId": "7fa8e4fd-64a5-46e4-bce4-0f0aea95fec8"
      },
      "source": [
        "profile.info()"
      ],
      "execution_count": 11,
      "outputs": [
        {
          "output_type": "stream",
          "text": [
            "<class 'pandas.core.frame.DataFrame'>\n",
            "RangeIndex: 17000 entries, 0 to 16999\n",
            "Data columns (total 5 columns):\n",
            " #   Column            Non-Null Count  Dtype  \n",
            "---  ------            --------------  -----  \n",
            " 0   gender            14825 non-null  object \n",
            " 1   age               17000 non-null  int64  \n",
            " 2   id                17000 non-null  object \n",
            " 3   became_member_on  17000 non-null  int64  \n",
            " 4   income            14825 non-null  float64\n",
            "dtypes: float64(1), int64(2), object(2)\n",
            "memory usage: 664.2+ KB\n"
          ],
          "name": "stdout"
        }
      ]
    },
    {
      "cell_type": "code",
      "metadata": {
        "colab": {
          "base_uri": "https://localhost:8080/",
          "height": 373
        },
        "id": "0B1sKvj2KY3w",
        "outputId": "9c69df58-2634-4273-bdbf-c6cc42e66a0a"
      },
      "source": [
        "profile.describe(include=\"all\")"
      ],
      "execution_count": 12,
      "outputs": [
        {
          "output_type": "execute_result",
          "data": {
            "text/html": [
              "<div>\n",
              "<style scoped>\n",
              "    .dataframe tbody tr th:only-of-type {\n",
              "        vertical-align: middle;\n",
              "    }\n",
              "\n",
              "    .dataframe tbody tr th {\n",
              "        vertical-align: top;\n",
              "    }\n",
              "\n",
              "    .dataframe thead th {\n",
              "        text-align: right;\n",
              "    }\n",
              "</style>\n",
              "<table border=\"1\" class=\"dataframe\">\n",
              "  <thead>\n",
              "    <tr style=\"text-align: right;\">\n",
              "      <th></th>\n",
              "      <th>gender</th>\n",
              "      <th>age</th>\n",
              "      <th>id</th>\n",
              "      <th>became_member_on</th>\n",
              "      <th>income</th>\n",
              "    </tr>\n",
              "  </thead>\n",
              "  <tbody>\n",
              "    <tr>\n",
              "      <th>count</th>\n",
              "      <td>14825</td>\n",
              "      <td>17000.000000</td>\n",
              "      <td>17000</td>\n",
              "      <td>1.700000e+04</td>\n",
              "      <td>14825.000000</td>\n",
              "    </tr>\n",
              "    <tr>\n",
              "      <th>unique</th>\n",
              "      <td>3</td>\n",
              "      <td>NaN</td>\n",
              "      <td>17000</td>\n",
              "      <td>NaN</td>\n",
              "      <td>NaN</td>\n",
              "    </tr>\n",
              "    <tr>\n",
              "      <th>top</th>\n",
              "      <td>M</td>\n",
              "      <td>NaN</td>\n",
              "      <td>f3dfe66c8d74446189b21c7c704f2182</td>\n",
              "      <td>NaN</td>\n",
              "      <td>NaN</td>\n",
              "    </tr>\n",
              "    <tr>\n",
              "      <th>freq</th>\n",
              "      <td>8484</td>\n",
              "      <td>NaN</td>\n",
              "      <td>1</td>\n",
              "      <td>NaN</td>\n",
              "      <td>NaN</td>\n",
              "    </tr>\n",
              "    <tr>\n",
              "      <th>mean</th>\n",
              "      <td>NaN</td>\n",
              "      <td>62.531412</td>\n",
              "      <td>NaN</td>\n",
              "      <td>2.016703e+07</td>\n",
              "      <td>65404.991568</td>\n",
              "    </tr>\n",
              "    <tr>\n",
              "      <th>std</th>\n",
              "      <td>NaN</td>\n",
              "      <td>26.738580</td>\n",
              "      <td>NaN</td>\n",
              "      <td>1.167750e+04</td>\n",
              "      <td>21598.299410</td>\n",
              "    </tr>\n",
              "    <tr>\n",
              "      <th>min</th>\n",
              "      <td>NaN</td>\n",
              "      <td>18.000000</td>\n",
              "      <td>NaN</td>\n",
              "      <td>2.013073e+07</td>\n",
              "      <td>30000.000000</td>\n",
              "    </tr>\n",
              "    <tr>\n",
              "      <th>25%</th>\n",
              "      <td>NaN</td>\n",
              "      <td>45.000000</td>\n",
              "      <td>NaN</td>\n",
              "      <td>2.016053e+07</td>\n",
              "      <td>49000.000000</td>\n",
              "    </tr>\n",
              "    <tr>\n",
              "      <th>50%</th>\n",
              "      <td>NaN</td>\n",
              "      <td>58.000000</td>\n",
              "      <td>NaN</td>\n",
              "      <td>2.017080e+07</td>\n",
              "      <td>64000.000000</td>\n",
              "    </tr>\n",
              "    <tr>\n",
              "      <th>75%</th>\n",
              "      <td>NaN</td>\n",
              "      <td>73.000000</td>\n",
              "      <td>NaN</td>\n",
              "      <td>2.017123e+07</td>\n",
              "      <td>80000.000000</td>\n",
              "    </tr>\n",
              "    <tr>\n",
              "      <th>max</th>\n",
              "      <td>NaN</td>\n",
              "      <td>118.000000</td>\n",
              "      <td>NaN</td>\n",
              "      <td>2.018073e+07</td>\n",
              "      <td>120000.000000</td>\n",
              "    </tr>\n",
              "  </tbody>\n",
              "</table>\n",
              "</div>"
            ],
            "text/plain": [
              "       gender           age  ... became_member_on         income\n",
              "count   14825  17000.000000  ...     1.700000e+04   14825.000000\n",
              "unique      3           NaN  ...              NaN            NaN\n",
              "top         M           NaN  ...              NaN            NaN\n",
              "freq     8484           NaN  ...              NaN            NaN\n",
              "mean      NaN     62.531412  ...     2.016703e+07   65404.991568\n",
              "std       NaN     26.738580  ...     1.167750e+04   21598.299410\n",
              "min       NaN     18.000000  ...     2.013073e+07   30000.000000\n",
              "25%       NaN     45.000000  ...     2.016053e+07   49000.000000\n",
              "50%       NaN     58.000000  ...     2.017080e+07   64000.000000\n",
              "75%       NaN     73.000000  ...     2.017123e+07   80000.000000\n",
              "max       NaN    118.000000  ...     2.018073e+07  120000.000000\n",
              "\n",
              "[11 rows x 5 columns]"
            ]
          },
          "metadata": {
            "tags": []
          },
          "execution_count": 12
        }
      ]
    },
    {
      "cell_type": "code",
      "metadata": {
        "colab": {
          "base_uri": "https://localhost:8080/"
        },
        "id": "uOi78e5gKY3w",
        "outputId": "c6e13ac4-e2ab-41c0-f22e-3c2eeb3f5c34"
      },
      "source": [
        "#check for null values \n",
        "profile.isnull().sum()"
      ],
      "execution_count": 13,
      "outputs": [
        {
          "output_type": "execute_result",
          "data": {
            "text/plain": [
              "gender              2175\n",
              "age                    0\n",
              "id                     0\n",
              "became_member_on       0\n",
              "income              2175\n",
              "dtype: int64"
            ]
          },
          "metadata": {
            "tags": []
          },
          "execution_count": 13
        }
      ]
    },
    {
      "cell_type": "code",
      "metadata": {
        "colab": {
          "base_uri": "https://localhost:8080/"
        },
        "id": "fsowdrvjWxA5",
        "outputId": "7377eae8-912c-4899-ee6a-83def9535972"
      },
      "source": [
        "profile.duplicated().sum()"
      ],
      "execution_count": 14,
      "outputs": [
        {
          "output_type": "execute_result",
          "data": {
            "text/plain": [
              "0"
            ]
          },
          "metadata": {
            "tags": []
          },
          "execution_count": 14
        }
      ]
    },
    {
      "cell_type": "code",
      "metadata": {
        "colab": {
          "base_uri": "https://localhost:8080/",
          "height": 266
        },
        "id": "KtE7NU-eWLl8",
        "outputId": "c8fee955-6e4d-4703-ba12-ece218bde436"
      },
      "source": [
        "# age distribution\n",
        "profile.age.hist();"
      ],
      "execution_count": 15,
      "outputs": [
        {
          "output_type": "display_data",
          "data": {
            "image/png": "[encoded data removed]",
            "text/plain": [
              "<Figure size 432x288 with 1 Axes>"
            ]
          },
          "metadata": {
            "tags": [],
            "needs_background": "light"
          }
        }
      ]
    },
    {
      "cell_type": "code",
      "metadata": {
        "colab": {
          "base_uri": "https://localhost:8080/",
          "height": 279
        },
        "id": "1PyfAMdhUlqd",
        "outputId": "2f61754c-00df-402b-a754-160aca2fa9ee"
      },
      "source": [
        "sns.boxplot(profile['age'], width=0.5);"
      ],
      "execution_count": 16,
      "outputs": [
        {
          "output_type": "display_data",
          "data": {
            "image/png": "[encoded data removed]",
            "text/plain": [
              "<Figure size 432x288 with 1 Axes>"
            ]
          },
          "metadata": {
            "tags": [],
            "needs_background": "light"
          }
        }
      ]
    },
    {
      "cell_type": "markdown",
      "metadata": {
        "id": "zSmBaU6FTgQx"
      },
      "source": [
        "Age 118 seems outlier. Lets explore it further."
      ]
    },
    {
      "cell_type": "code",
      "metadata": {
        "colab": {
          "base_uri": "https://localhost:8080/"
        },
        "id": "qYfcPDNIKY3w",
        "outputId": "ab65240c-81a5-40de-f48b-c8913138b20f"
      },
      "source": [
        "profile[profile['age']== 118].age.count()"
      ],
      "execution_count": 17,
      "outputs": [
        {
          "output_type": "execute_result",
          "data": {
            "text/plain": [
              "2175"
            ]
          },
          "metadata": {
            "tags": []
          },
          "execution_count": 17
        }
      ]
    },
    {
      "cell_type": "code",
      "metadata": {
        "colab": {
          "base_uri": "https://localhost:8080/",
          "height": 402
        },
        "id": "Hdezl51pTTr7",
        "outputId": "2f90aed4-a4e2-4cf5-8843-8f248ab5c667"
      },
      "source": [
        "profile[profile.age == 118][['gender','income']]"
      ],
      "execution_count": 18,
      "outputs": [
        {
          "output_type": "execute_result",
          "data": {
            "text/html": [
              "<div>\n",
              "<style scoped>\n",
              "    .dataframe tbody tr th:only-of-type {\n",
              "        vertical-align: middle;\n",
              "    }\n",
              "\n",
              "    .dataframe tbody tr th {\n",
              "        vertical-align: top;\n",
              "    }\n",
              "\n",
              "    .dataframe thead th {\n",
              "        text-align: right;\n",
              "    }\n",
              "</style>\n",
              "<table border=\"1\" class=\"dataframe\">\n",
              "  <thead>\n",
              "    <tr style=\"text-align: right;\">\n",
              "      <th></th>\n",
              "      <th>gender</th>\n",
              "      <th>income</th>\n",
              "    </tr>\n",
              "  </thead>\n",
              "  <tbody>\n",
              "    <tr>\n",
              "      <th>0</th>\n",
              "      <td>None</td>\n",
              "      <td>NaN</td>\n",
              "    </tr>\n",
              "    <tr>\n",
              "      <th>2</th>\n",
              "      <td>None</td>\n",
              "      <td>NaN</td>\n",
              "    </tr>\n",
              "    <tr>\n",
              "      <th>4</th>\n",
              "      <td>None</td>\n",
              "      <td>NaN</td>\n",
              "    </tr>\n",
              "    <tr>\n",
              "      <th>6</th>\n",
              "      <td>None</td>\n",
              "      <td>NaN</td>\n",
              "    </tr>\n",
              "    <tr>\n",
              "      <th>7</th>\n",
              "      <td>None</td>\n",
              "      <td>NaN</td>\n",
              "    </tr>\n",
              "    <tr>\n",
              "      <th>...</th>\n",
              "      <td>...</td>\n",
              "      <td>...</td>\n",
              "    </tr>\n",
              "    <tr>\n",
              "      <th>16980</th>\n",
              "      <td>None</td>\n",
              "      <td>NaN</td>\n",
              "    </tr>\n",
              "    <tr>\n",
              "      <th>16982</th>\n",
              "      <td>None</td>\n",
              "      <td>NaN</td>\n",
              "    </tr>\n",
              "    <tr>\n",
              "      <th>16989</th>\n",
              "      <td>None</td>\n",
              "      <td>NaN</td>\n",
              "    </tr>\n",
              "    <tr>\n",
              "      <th>16991</th>\n",
              "      <td>None</td>\n",
              "      <td>NaN</td>\n",
              "    </tr>\n",
              "    <tr>\n",
              "      <th>16994</th>\n",
              "      <td>None</td>\n",
              "      <td>NaN</td>\n",
              "    </tr>\n",
              "  </tbody>\n",
              "</table>\n",
              "<p>2175 rows × 2 columns</p>\n",
              "</div>"
            ],
            "text/plain": [
              "      gender  income\n",
              "0       None     NaN\n",
              "2       None     NaN\n",
              "4       None     NaN\n",
              "6       None     NaN\n",
              "7       None     NaN\n",
              "...      ...     ...\n",
              "16980   None     NaN\n",
              "16982   None     NaN\n",
              "16989   None     NaN\n",
              "16991   None     NaN\n",
              "16994   None     NaN\n",
              "\n",
              "[2175 rows x 2 columns]"
            ]
          },
          "metadata": {
            "tags": []
          },
          "execution_count": 18
        }
      ]
    },
    {
      "cell_type": "markdown",
      "metadata": {
        "id": "_Edod4JnKY3w"
      },
      "source": [
        "As per above analysis we see that wherever age is 118, the values in Gender and income is null. And also 2175 is count of such of rows. Also we saw that 2175 instances had gender and income was null. So we will drop all instances where age equals 118 as these are errorneous record."
      ]
    },
    {
      "cell_type": "code",
      "metadata": {
        "colab": {
          "base_uri": "https://localhost:8080/",
          "height": 279
        },
        "id": "HZ-Lf_6hWXgQ",
        "outputId": "6af07cc0-962b-4826-8d1e-bd9399da9c37"
      },
      "source": [
        "## Gender-wise age distribution\n",
        "sns.distplot(profile[profile.gender=='M'].age,label='Male')\n",
        "sns.distplot(profile[profile.gender=='F'].age,label='Female')\n",
        "sns.distplot(profile[profile.gender=='O'].age,label='Other')\n",
        "plt.legend()\n",
        "plt.show()"
      ],
      "execution_count": 19,
      "outputs": [
        {
          "output_type": "display_data",
          "data": {
            "image/png": "[encoded data removed]",
            "text/plain": [
              "<Figure size 432x288 with 1 Axes>"
            ]
          },
          "metadata": {
            "tags": [],
            "needs_background": "light"
          }
        }
      ]
    },
    {
      "cell_type": "code",
      "metadata": {
        "colab": {
          "base_uri": "https://localhost:8080/",
          "height": 265
        },
        "id": "t8zke8cvVdd2",
        "outputId": "2dee302e-b71f-4f29-ac45-e35931418e74"
      },
      "source": [
        "# distribution of income\n",
        "profile.income.hist();"
      ],
      "execution_count": 20,
      "outputs": [
        {
          "output_type": "display_data",
          "data": {
            "image/png": "[encoded data removed]",
            "text/plain": [
              "<Figure size 432x288 with 1 Axes>"
            ]
          },
          "metadata": {
            "tags": [],
            "needs_background": "light"
          }
        }
      ]
    },
    {
      "cell_type": "code",
      "metadata": {
        "colab": {
          "base_uri": "https://localhost:8080/"
        },
        "id": "R7X_iYWe1w-u",
        "outputId": "cffca87a-a674-4a8a-d893-23d9b58e2fa2"
      },
      "source": [
        "profile['income'].mean()"
      ],
      "execution_count": 21,
      "outputs": [
        {
          "output_type": "execute_result",
          "data": {
            "text/plain": [
              "65404.9915682968"
            ]
          },
          "metadata": {
            "tags": []
          },
          "execution_count": 21
        }
      ]
    },
    {
      "cell_type": "code",
      "metadata": {
        "colab": {
          "base_uri": "https://localhost:8080/"
        },
        "id": "QLUgGoE3V0Ul",
        "outputId": "17df5010-428a-491b-d429-d155a083ab97"
      },
      "source": [
        "# Gender wise data distribution\n",
        "profile.gender.value_counts()"
      ],
      "execution_count": 22,
      "outputs": [
        {
          "output_type": "execute_result",
          "data": {
            "text/plain": [
              "M    8484\n",
              "F    6129\n",
              "O     212\n",
              "Name: gender, dtype: int64"
            ]
          },
          "metadata": {
            "tags": []
          },
          "execution_count": 22
        }
      ]
    },
    {
      "cell_type": "code",
      "metadata": {
        "colab": {
          "base_uri": "https://localhost:8080/",
          "height": 290
        },
        "id": "7--nt0FDVY38",
        "outputId": "69d1c5c6-de77-4c8d-ce67-cee4a3277f1a"
      },
      "source": [
        "## Gender-wise Income Distribution\n",
        "sns.distplot(profile[profile.gender=='M'].income,label='Male')\n",
        "sns.distplot(profile[profile.gender=='F'].income,label='Female')\n",
        "sns.distplot(profile[profile.gender=='O'].income,label='Other')\n",
        "plt.legend()\n",
        "plt.show()"
      ],
      "execution_count": 23,
      "outputs": [
        {
          "output_type": "display_data",
          "data": {
            "image/png": "[encoded data removed]",
            "text/plain": [
              "<Figure size 432x288 with 1 Axes>"
            ]
          },
          "metadata": {
            "tags": [],
            "needs_background": "light"
          }
        }
      ]
    },
    {
      "cell_type": "markdown",
      "metadata": {
        "id": "YQhZo8vuKY3x"
      },
      "source": [
        "## Transcript"
      ]
    },
    {
      "cell_type": "code",
      "metadata": {
        "colab": {
          "base_uri": "https://localhost:8080/",
          "height": 195
        },
        "id": "bG5HGlfrKY3x",
        "outputId": "af38b2aa-f154-484c-9bff-adf59ae74a34"
      },
      "source": [
        "transcript.head()"
      ],
      "execution_count": 24,
      "outputs": [
        {
          "output_type": "execute_result",
          "data": {
            "text/html": [
              "<div>\n",
              "<style scoped>\n",
              "    .dataframe tbody tr th:only-of-type {\n",
              "        vertical-align: middle;\n",
              "    }\n",
              "\n",
              "    .dataframe tbody tr th {\n",
              "        vertical-align: top;\n",
              "    }\n",
              "\n",
              "    .dataframe thead th {\n",
              "        text-align: right;\n",
              "    }\n",
              "</style>\n",
              "<table border=\"1\" class=\"dataframe\">\n",
              "  <thead>\n",
              "    <tr style=\"text-align: right;\">\n",
              "      <th></th>\n",
              "      <th>person</th>\n",
              "      <th>event</th>\n",
              "      <th>value</th>\n",
              "      <th>time</th>\n",
              "    </tr>\n",
              "  </thead>\n",
              "  <tbody>\n",
              "    <tr>\n",
              "      <th>0</th>\n",
              "      <td>78afa995795e4d85b5d9ceeca43f5fef</td>\n",
              "      <td>offer received</td>\n",
              "      <td>{'offer id': '9b98b8c7a33c4b65b9aebfe6a799e6d9'}</td>\n",
              "      <td>0</td>\n",
              "    </tr>\n",
              "    <tr>\n",
              "      <th>1</th>\n",
              "      <td>a03223e636434f42ac4c3df47e8bac43</td>\n",
              "      <td>offer received</td>\n",
              "      <td>{'offer id': '0b1e1539f2cc45b7b9fa7c272da2e1d7'}</td>\n",
              "      <td>0</td>\n",
              "    </tr>\n",
              "    <tr>\n",
              "      <th>2</th>\n",
              "      <td>e2127556f4f64592b11af22de27a7932</td>\n",
              "      <td>offer received</td>\n",
              "      <td>{'offer id': '2906b810c7d4411798c6938adc9daaa5'}</td>\n",
              "      <td>0</td>\n",
              "    </tr>\n",
              "    <tr>\n",
              "      <th>3</th>\n",
              "      <td>8ec6ce2a7e7949b1bf142def7d0e0586</td>\n",
              "      <td>offer received</td>\n",
              "      <td>{'offer id': 'fafdcd668e3743c1bb461111dcafc2a4'}</td>\n",
              "      <td>0</td>\n",
              "    </tr>\n",
              "    <tr>\n",
              "      <th>4</th>\n",
              "      <td>68617ca6246f4fbc85e91a2a49552598</td>\n",
              "      <td>offer received</td>\n",
              "      <td>{'offer id': '4d5c57ea9a6940dd891ad53e9dbe8da0'}</td>\n",
              "      <td>0</td>\n",
              "    </tr>\n",
              "  </tbody>\n",
              "</table>\n",
              "</div>"
            ],
            "text/plain": [
              "                             person  ... time\n",
              "0  78afa995795e4d85b5d9ceeca43f5fef  ...    0\n",
              "1  a03223e636434f42ac4c3df47e8bac43  ...    0\n",
              "2  e2127556f4f64592b11af22de27a7932  ...    0\n",
              "3  8ec6ce2a7e7949b1bf142def7d0e0586  ...    0\n",
              "4  68617ca6246f4fbc85e91a2a49552598  ...    0\n",
              "\n",
              "[5 rows x 4 columns]"
            ]
          },
          "metadata": {
            "tags": []
          },
          "execution_count": 24
        }
      ]
    },
    {
      "cell_type": "code",
      "metadata": {
        "colab": {
          "base_uri": "https://localhost:8080/"
        },
        "id": "uebcmvcFKY3y",
        "outputId": "b097c593-f13b-4073-e008-3b3f298510ea"
      },
      "source": [
        "items, attributes = transcript.shape\n",
        "print(\"Transcript dataset has {} records and {} attributes\".format(items, attributes))"
      ],
      "execution_count": 25,
      "outputs": [
        {
          "output_type": "stream",
          "text": [
            "Transcript dataset has 306534 records and 4 attributes\n"
          ],
          "name": "stdout"
        }
      ]
    },
    {
      "cell_type": "code",
      "metadata": {
        "colab": {
          "base_uri": "https://localhost:8080/"
        },
        "id": "zh-991kiKY3y",
        "outputId": "ab6893ff-038b-4147-c537-001884312e77"
      },
      "source": [
        "transcript.info()"
      ],
      "execution_count": 26,
      "outputs": [
        {
          "output_type": "stream",
          "text": [
            "<class 'pandas.core.frame.DataFrame'>\n",
            "RangeIndex: 306534 entries, 0 to 306533\n",
            "Data columns (total 4 columns):\n",
            " #   Column  Non-Null Count   Dtype \n",
            "---  ------  --------------   ----- \n",
            " 0   person  306534 non-null  object\n",
            " 1   event   306534 non-null  object\n",
            " 2   value   306534 non-null  object\n",
            " 3   time    306534 non-null  int64 \n",
            "dtypes: int64(1), object(3)\n",
            "memory usage: 9.4+ MB\n"
          ],
          "name": "stdout"
        }
      ]
    },
    {
      "cell_type": "code",
      "metadata": {
        "colab": {
          "base_uri": "https://localhost:8080/"
        },
        "id": "U3Lu6ZdeKY3y",
        "outputId": "e30a9d06-ecb6-4ee1-ba85-ee694366b109"
      },
      "source": [
        "#check for null values\n",
        "transcript.isnull().sum()"
      ],
      "execution_count": 27,
      "outputs": [
        {
          "output_type": "execute_result",
          "data": {
            "text/plain": [
              "person    0\n",
              "event     0\n",
              "value     0\n",
              "time      0\n",
              "dtype: int64"
            ]
          },
          "metadata": {
            "tags": []
          },
          "execution_count": 27
        }
      ]
    },
    {
      "cell_type": "code",
      "metadata": {
        "colab": {
          "base_uri": "https://localhost:8080/"
        },
        "id": "Co7DxHoWYQSU",
        "outputId": "d8de4b42-e6d6-4699-b377-d942abf23f34"
      },
      "source": [
        "transcript['event'].value_counts()"
      ],
      "execution_count": 28,
      "outputs": [
        {
          "output_type": "execute_result",
          "data": {
            "text/plain": [
              "transaction        138953\n",
              "offer received      76277\n",
              "offer viewed        57725\n",
              "offer completed     33579\n",
              "Name: event, dtype: int64"
            ]
          },
          "metadata": {
            "tags": []
          },
          "execution_count": 28
        }
      ]
    },
    {
      "cell_type": "code",
      "metadata": {
        "colab": {
          "base_uri": "https://localhost:8080/"
        },
        "id": "StayitTsjwFl",
        "outputId": "cea7fa47-59cc-49d6-9119-102296a3c4f2"
      },
      "source": [
        "keys = transcript['value'].apply(lambda x: list(x.keys()))\n",
        "possible_keys = set()\n",
        "for key in keys:\n",
        "  for item in key:\n",
        "    possible_keys.add(item)\n",
        "print(possible_keys)"
      ],
      "execution_count": 29,
      "outputs": [
        {
          "output_type": "stream",
          "text": [
            "{'offer id', 'amount', 'offer_id', 'reward'}\n"
          ],
          "name": "stdout"
        }
      ]
    },
    {
      "cell_type": "markdown",
      "metadata": {
        "id": "WxwWXmbdKY3y"
      },
      "source": [
        "For the **value** attribute have 3 possible value.\n",
        "1. offer id/ offer_id\n",
        "2. amount\n",
        "3. reward"
      ]
    },
    {
      "cell_type": "markdown",
      "metadata": {
        "id": "ci600yAZKY3y"
      },
      "source": [
        "# Data cleaning & Transformation"
      ]
    },
    {
      "cell_type": "markdown",
      "metadata": {
        "id": "6qZJDEqoKY3y"
      },
      "source": [
        "## Portfolio"
      ]
    },
    {
      "cell_type": "markdown",
      "metadata": {
        "id": "oIDm9hLDKY3y"
      },
      "source": [
        "Renaming columns for better understanding and meaningfulness"
      ]
    },
    {
      "cell_type": "code",
      "metadata": {
        "id": "HxSfExOXKY3y"
      },
      "source": [
        "#Rename columns\n",
        "new_cols_name = {'difficulty':'offer_difficulty' , 'id':'offer_id', 'duration':'offer_duration', 'reward': 'offer_reward'}\n",
        "portfolio = portfolio.rename(columns=new_cols_name )"
      ],
      "execution_count": 30,
      "outputs": []
    },
    {
      "cell_type": "markdown",
      "metadata": {
        "id": "blQV5JsE_FFC"
      },
      "source": [
        "Exploding the channel attribute into four separate attribute - (email, mobile, social, web)"
      ]
    },
    {
      "cell_type": "code",
      "metadata": {
        "id": "IG9Le1lRmvvd"
      },
      "source": [
        "dummy = pd.get_dummies(portfolio.channels.apply(pd.Series).stack()).sum(level=0)\n",
        "portfolio = pd.concat([portfolio, dummy], axis=1)\n",
        "portfolio.drop(columns='channels', inplace=True)"
      ],
      "execution_count": 31,
      "outputs": []
    },
    {
      "cell_type": "code",
      "metadata": {
        "colab": {
          "base_uri": "https://localhost:8080/",
          "height": 195
        },
        "id": "TzSwBcv2u0GR",
        "outputId": "bdfda514-2265-4479-9595-033cfbc17385"
      },
      "source": [
        "portfolio.head()"
      ],
      "execution_count": 32,
      "outputs": [
        {
          "output_type": "execute_result",
          "data": {
            "text/html": [
              "<div>\n",
              "<style scoped>\n",
              "    .dataframe tbody tr th:only-of-type {\n",
              "        vertical-align: middle;\n",
              "    }\n",
              "\n",
              "    .dataframe tbody tr th {\n",
              "        vertical-align: top;\n",
              "    }\n",
              "\n",
              "    .dataframe thead th {\n",
              "        text-align: right;\n",
              "    }\n",
              "</style>\n",
              "<table border=\"1\" class=\"dataframe\">\n",
              "  <thead>\n",
              "    <tr style=\"text-align: right;\">\n",
              "      <th></th>\n",
              "      <th>offer_reward</th>\n",
              "      <th>offer_difficulty</th>\n",
              "      <th>offer_duration</th>\n",
              "      <th>offer_type</th>\n",
              "      <th>offer_id</th>\n",
              "      <th>email</th>\n",
              "      <th>mobile</th>\n",
              "      <th>social</th>\n",
              "      <th>web</th>\n",
              "    </tr>\n",
              "  </thead>\n",
              "  <tbody>\n",
              "    <tr>\n",
              "      <th>0</th>\n",
              "      <td>10</td>\n",
              "      <td>10</td>\n",
              "      <td>7</td>\n",
              "      <td>bogo</td>\n",
              "      <td>ae264e3637204a6fb9bb56bc8210ddfd</td>\n",
              "      <td>1</td>\n",
              "      <td>1</td>\n",
              "      <td>1</td>\n",
              "      <td>0</td>\n",
              "    </tr>\n",
              "    <tr>\n",
              "      <th>1</th>\n",
              "      <td>10</td>\n",
              "      <td>10</td>\n",
              "      <td>5</td>\n",
              "      <td>bogo</td>\n",
              "      <td>4d5c57ea9a6940dd891ad53e9dbe8da0</td>\n",
              "      <td>1</td>\n",
              "      <td>1</td>\n",
              "      <td>1</td>\n",
              "      <td>1</td>\n",
              "    </tr>\n",
              "    <tr>\n",
              "      <th>2</th>\n",
              "      <td>0</td>\n",
              "      <td>0</td>\n",
              "      <td>4</td>\n",
              "      <td>informational</td>\n",
              "      <td>3f207df678b143eea3cee63160fa8bed</td>\n",
              "      <td>1</td>\n",
              "      <td>1</td>\n",
              "      <td>0</td>\n",
              "      <td>1</td>\n",
              "    </tr>\n",
              "    <tr>\n",
              "      <th>3</th>\n",
              "      <td>5</td>\n",
              "      <td>5</td>\n",
              "      <td>7</td>\n",
              "      <td>bogo</td>\n",
              "      <td>9b98b8c7a33c4b65b9aebfe6a799e6d9</td>\n",
              "      <td>1</td>\n",
              "      <td>1</td>\n",
              "      <td>0</td>\n",
              "      <td>1</td>\n",
              "    </tr>\n",
              "    <tr>\n",
              "      <th>4</th>\n",
              "      <td>5</td>\n",
              "      <td>20</td>\n",
              "      <td>10</td>\n",
              "      <td>discount</td>\n",
              "      <td>0b1e1539f2cc45b7b9fa7c272da2e1d7</td>\n",
              "      <td>1</td>\n",
              "      <td>0</td>\n",
              "      <td>0</td>\n",
              "      <td>1</td>\n",
              "    </tr>\n",
              "  </tbody>\n",
              "</table>\n",
              "</div>"
            ],
            "text/plain": [
              "   offer_reward  offer_difficulty  offer_duration  ... mobile social  web\n",
              "0            10                10               7  ...      1      1    0\n",
              "1            10                10               5  ...      1      1    1\n",
              "2             0                 0               4  ...      1      0    1\n",
              "3             5                 5               7  ...      1      0    1\n",
              "4             5                20              10  ...      0      0    1\n",
              "\n",
              "[5 rows x 9 columns]"
            ]
          },
          "metadata": {
            "tags": []
          },
          "execution_count": 32
        }
      ]
    },
    {
      "cell_type": "markdown",
      "metadata": {
        "id": "gibzXTNhKY3y"
      },
      "source": [
        "## Profile"
      ]
    },
    {
      "cell_type": "markdown",
      "metadata": {
        "id": "byjO6hACKY3y"
      },
      "source": [
        "Renaming columns for better understaning & meaningfulness"
      ]
    },
    {
      "cell_type": "code",
      "metadata": {
        "id": "MMrYFhaZKY3y"
      },
      "source": [
        "#Rename columns\n",
        "cols_profile = {'id':'customer_id' , 'income':'customer_income'}\n",
        "profile = profile.rename(columns=cols_profile)"
      ],
      "execution_count": 33,
      "outputs": []
    },
    {
      "cell_type": "markdown",
      "metadata": {
        "id": "bciuffrQ_uFX"
      },
      "source": [
        "Removing rows with missing values. We saw above that all nulls belong to age 118 which are outliers."
      ]
    },
    {
      "cell_type": "code",
      "metadata": {
        "id": "fxb8IG22KY3y"
      },
      "source": [
        "#drop all rows which has null value \n",
        "profile = profile.loc[profile['gender'].isnull() == False]"
      ],
      "execution_count": 34,
      "outputs": []
    },
    {
      "cell_type": "markdown",
      "metadata": {
        "id": "n5FD0JXB_7o-"
      },
      "source": [
        "Classifying ages into groups for better understanding in Exploratory Data Analysis later:\n",
        "* Under 20\n",
        "* 21 - 35\n",
        "* 35 - 50\n",
        "* 50 - 65\n",
        "* Above 65"
      ]
    },
    {
      "cell_type": "code",
      "metadata": {
        "id": "CVDS8QHun3zr"
      },
      "source": [
        "#Convert ages into age group\n",
        "profile.loc[(profile.age <= 20) , 'Age_group'] = 'Under 20'\n",
        "profile.loc[(profile.age >= 21) & (profile.age <= 35) , 'Age_group'] = '21-35'\n",
        "profile.loc[(profile.age >= 36) & (profile.age <= 50) , 'Age_group'] = '36-50'\n",
        "profile.loc[(profile.age >= 51) & (profile.age <= 65) , 'Age_group'] = '51-65'\n",
        "profile.loc[(profile.age >= 66) , 'Age_group'] = 'Above 65'\n",
        "profile.drop('age',axis=1,inplace=True)"
      ],
      "execution_count": 35,
      "outputs": []
    },
    {
      "cell_type": "markdown",
      "metadata": {
        "id": "H32Qc7LrqU9D"
      },
      "source": [
        "Classifying income into income_groups for better understanding in Exploratory Data Analysis later:\n",
        "* 30-50K\n",
        "* 50-80K\n",
        "* 80-110K\n",
        "* Above 110K"
      ]
    },
    {
      "cell_type": "code",
      "metadata": {
        "id": "8ga3eWPcnbc3"
      },
      "source": [
        "#Convert income into income group\n",
        "profile.loc[(profile.customer_income >= 30000) & (profile.customer_income <= 50000) , 'Income_group'] = '30-50K'\n",
        "profile.loc[(profile.customer_income >= 50001) & (profile.customer_income <= 80000) , 'Income_group'] = '50-80K'\n",
        "profile.loc[(profile.customer_income >= 80001) & (profile.customer_income <= 110000) , 'Income_group'] = '80-110K'\n",
        "profile.loc[(profile.customer_income >= 110001) , 'Income_group'] = 'Above 110K'\n",
        "profile.drop('customer_income',axis=1,inplace=True)"
      ],
      "execution_count": 36,
      "outputs": []
    },
    {
      "cell_type": "markdown",
      "metadata": {
        "id": "GVQCPfVpAOvI"
      },
      "source": [
        "Converting became_member_on to a more quantitative term member_since_days. This will depict how long the customer has been member of the program."
      ]
    },
    {
      "cell_type": "code",
      "metadata": {
        "id": "ZdWmYGCOrhhQ"
      },
      "source": [
        "#Convert joining date to duration in days for which the customer is member\n",
        "profile['became_member_on'] = pd.to_datetime(profile['became_member_on'], format='%Y%m%d')\n",
        "baseline_date = max(profile['became_member_on'])\n",
        "profile['member_since_days'] = profile['became_member_on'].apply(lambda x: (baseline_date - x).days)\n",
        "profile.drop('became_member_on',axis=1,inplace=True)"
      ],
      "execution_count": 37,
      "outputs": []
    },
    {
      "cell_type": "code",
      "metadata": {
        "colab": {
          "base_uri": "https://localhost:8080/",
          "height": 195
        },
        "id": "ljviTyDHKY3y",
        "outputId": "70ced4b7-9f61-46a4-cdeb-33a334a18869"
      },
      "source": [
        "profile.head()"
      ],
      "execution_count": 38,
      "outputs": [
        {
          "output_type": "execute_result",
          "data": {
            "text/html": [
              "<div>\n",
              "<style scoped>\n",
              "    .dataframe tbody tr th:only-of-type {\n",
              "        vertical-align: middle;\n",
              "    }\n",
              "\n",
              "    .dataframe tbody tr th {\n",
              "        vertical-align: top;\n",
              "    }\n",
              "\n",
              "    .dataframe thead th {\n",
              "        text-align: right;\n",
              "    }\n",
              "</style>\n",
              "<table border=\"1\" class=\"dataframe\">\n",
              "  <thead>\n",
              "    <tr style=\"text-align: right;\">\n",
              "      <th></th>\n",
              "      <th>gender</th>\n",
              "      <th>customer_id</th>\n",
              "      <th>Age_group</th>\n",
              "      <th>Income_group</th>\n",
              "      <th>member_since_days</th>\n",
              "    </tr>\n",
              "  </thead>\n",
              "  <tbody>\n",
              "    <tr>\n",
              "      <th>1</th>\n",
              "      <td>F</td>\n",
              "      <td>0610b486422d4921ae7d2bf64640c50b</td>\n",
              "      <td>51-65</td>\n",
              "      <td>Above 110K</td>\n",
              "      <td>376</td>\n",
              "    </tr>\n",
              "    <tr>\n",
              "      <th>3</th>\n",
              "      <td>F</td>\n",
              "      <td>78afa995795e4d85b5d9ceeca43f5fef</td>\n",
              "      <td>Above 65</td>\n",
              "      <td>80-110K</td>\n",
              "      <td>443</td>\n",
              "    </tr>\n",
              "    <tr>\n",
              "      <th>5</th>\n",
              "      <td>M</td>\n",
              "      <td>e2127556f4f64592b11af22de27a7932</td>\n",
              "      <td>Above 65</td>\n",
              "      <td>50-80K</td>\n",
              "      <td>91</td>\n",
              "    </tr>\n",
              "    <tr>\n",
              "      <th>8</th>\n",
              "      <td>M</td>\n",
              "      <td>389bc3fa690240e798340f5a15918d5c</td>\n",
              "      <td>51-65</td>\n",
              "      <td>50-80K</td>\n",
              "      <td>167</td>\n",
              "    </tr>\n",
              "    <tr>\n",
              "      <th>12</th>\n",
              "      <td>M</td>\n",
              "      <td>2eeac8d8feae4a8cad5a6af0499a211d</td>\n",
              "      <td>51-65</td>\n",
              "      <td>50-80K</td>\n",
              "      <td>257</td>\n",
              "    </tr>\n",
              "  </tbody>\n",
              "</table>\n",
              "</div>"
            ],
            "text/plain": [
              "   gender                       customer_id  ... Income_group member_since_days\n",
              "1       F  0610b486422d4921ae7d2bf64640c50b  ...   Above 110K               376\n",
              "3       F  78afa995795e4d85b5d9ceeca43f5fef  ...      80-110K               443\n",
              "5       M  e2127556f4f64592b11af22de27a7932  ...       50-80K                91\n",
              "8       M  389bc3fa690240e798340f5a15918d5c  ...       50-80K               167\n",
              "12      M  2eeac8d8feae4a8cad5a6af0499a211d  ...       50-80K               257\n",
              "\n",
              "[5 rows x 5 columns]"
            ]
          },
          "metadata": {
            "tags": []
          },
          "execution_count": 38
        }
      ]
    },
    {
      "cell_type": "markdown",
      "metadata": {
        "id": "AyNssmyYKY3y"
      },
      "source": [
        "## Transcript"
      ]
    },
    {
      "cell_type": "markdown",
      "metadata": {
        "id": "wOhx84x2BYLT"
      },
      "source": [
        "Renaming columns for better understaning & meaningfulness"
      ]
    },
    {
      "cell_type": "code",
      "metadata": {
        "id": "UAI-89i4KY3y"
      },
      "source": [
        "#Rename columns\n",
        "transcript_cols = {'person':'customer_id'}\n",
        "transcript = transcript.rename(columns=transcript_cols)"
      ],
      "execution_count": 39,
      "outputs": []
    },
    {
      "cell_type": "markdown",
      "metadata": {
        "id": "-2yhDH39BZ6B"
      },
      "source": [
        "Removing space in event as when we explode, its easier to maintain columns name without space."
      ]
    },
    {
      "cell_type": "code",
      "metadata": {
        "id": "qS5hODi1wuzE"
      },
      "source": [
        "transcript['event'] = transcript['event'].str.replace(' ', '-')"
      ],
      "execution_count": 40,
      "outputs": []
    },
    {
      "cell_type": "markdown",
      "metadata": {
        "id": "EsLgC3Q2Bm3a"
      },
      "source": [
        "Split the value column into three columns as the keys of the dictionary which represents offer_id, reward, amount. Also we will merge offer_id and \"offer id\" into single attribute offer_id."
      ]
    },
    {
      "cell_type": "code",
      "metadata": {
        "id": "pS1VAWoWKY3y"
      },
      "source": [
        "transcript['offer_id'] = transcript['value'].apply(lambda x: x.get('offer_id'))\n",
        "transcript['offer id'] = transcript['value'].apply(lambda x: x.get('offer id'))\n",
        "transcript['reward'] = transcript['value'].apply(lambda x: x.get('reward'))\n",
        "transcript['amount'] = transcript['value'].apply(lambda x: x.get('amount'))\n",
        "\n",
        "transcript['offer_id'] = transcript.apply(lambda x : x['offer id'] if x['offer_id'] == None else x['offer_id'], axis=1)\n",
        "transcript.drop(['offer id' , 'value'] , axis=1, inplace=True)\n",
        "transcript.fillna(0 , inplace=True)\n"
      ],
      "execution_count": 41,
      "outputs": []
    },
    {
      "cell_type": "code",
      "metadata": {
        "colab": {
          "base_uri": "https://localhost:8080/",
          "height": 195
        },
        "id": "bjxGdU7IKY3y",
        "outputId": "279cf1c9-a421-4149-e4df-24ec6ad1fa99"
      },
      "source": [
        "transcript.head()"
      ],
      "execution_count": 42,
      "outputs": [
        {
          "output_type": "execute_result",
          "data": {
            "text/html": [
              "<div>\n",
              "<style scoped>\n",
              "    .dataframe tbody tr th:only-of-type {\n",
              "        vertical-align: middle;\n",
              "    }\n",
              "\n",
              "    .dataframe tbody tr th {\n",
              "        vertical-align: top;\n",
              "    }\n",
              "\n",
              "    .dataframe thead th {\n",
              "        text-align: right;\n",
              "    }\n",
              "</style>\n",
              "<table border=\"1\" class=\"dataframe\">\n",
              "  <thead>\n",
              "    <tr style=\"text-align: right;\">\n",
              "      <th></th>\n",
              "      <th>customer_id</th>\n",
              "      <th>event</th>\n",
              "      <th>time</th>\n",
              "      <th>offer_id</th>\n",
              "      <th>reward</th>\n",
              "      <th>amount</th>\n",
              "    </tr>\n",
              "  </thead>\n",
              "  <tbody>\n",
              "    <tr>\n",
              "      <th>0</th>\n",
              "      <td>78afa995795e4d85b5d9ceeca43f5fef</td>\n",
              "      <td>offer-received</td>\n",
              "      <td>0</td>\n",
              "      <td>9b98b8c7a33c4b65b9aebfe6a799e6d9</td>\n",
              "      <td>0.0</td>\n",
              "      <td>0.0</td>\n",
              "    </tr>\n",
              "    <tr>\n",
              "      <th>1</th>\n",
              "      <td>a03223e636434f42ac4c3df47e8bac43</td>\n",
              "      <td>offer-received</td>\n",
              "      <td>0</td>\n",
              "      <td>0b1e1539f2cc45b7b9fa7c272da2e1d7</td>\n",
              "      <td>0.0</td>\n",
              "      <td>0.0</td>\n",
              "    </tr>\n",
              "    <tr>\n",
              "      <th>2</th>\n",
              "      <td>e2127556f4f64592b11af22de27a7932</td>\n",
              "      <td>offer-received</td>\n",
              "      <td>0</td>\n",
              "      <td>2906b810c7d4411798c6938adc9daaa5</td>\n",
              "      <td>0.0</td>\n",
              "      <td>0.0</td>\n",
              "    </tr>\n",
              "    <tr>\n",
              "      <th>3</th>\n",
              "      <td>8ec6ce2a7e7949b1bf142def7d0e0586</td>\n",
              "      <td>offer-received</td>\n",
              "      <td>0</td>\n",
              "      <td>fafdcd668e3743c1bb461111dcafc2a4</td>\n",
              "      <td>0.0</td>\n",
              "      <td>0.0</td>\n",
              "    </tr>\n",
              "    <tr>\n",
              "      <th>4</th>\n",
              "      <td>68617ca6246f4fbc85e91a2a49552598</td>\n",
              "      <td>offer-received</td>\n",
              "      <td>0</td>\n",
              "      <td>4d5c57ea9a6940dd891ad53e9dbe8da0</td>\n",
              "      <td>0.0</td>\n",
              "      <td>0.0</td>\n",
              "    </tr>\n",
              "  </tbody>\n",
              "</table>\n",
              "</div>"
            ],
            "text/plain": [
              "                        customer_id           event  ...  reward amount\n",
              "0  78afa995795e4d85b5d9ceeca43f5fef  offer-received  ...     0.0    0.0\n",
              "1  a03223e636434f42ac4c3df47e8bac43  offer-received  ...     0.0    0.0\n",
              "2  e2127556f4f64592b11af22de27a7932  offer-received  ...     0.0    0.0\n",
              "3  8ec6ce2a7e7949b1bf142def7d0e0586  offer-received  ...     0.0    0.0\n",
              "4  68617ca6246f4fbc85e91a2a49552598  offer-received  ...     0.0    0.0\n",
              "\n",
              "[5 rows x 6 columns]"
            ]
          },
          "metadata": {
            "tags": []
          },
          "execution_count": 42
        }
      ]
    },
    {
      "cell_type": "markdown",
      "metadata": {
        "id": "ySFJQKejKY3y"
      },
      "source": [
        "# Preparing data for Analysis"
      ]
    },
    {
      "cell_type": "markdown",
      "metadata": {
        "id": "7iYeIoYhKY3y"
      },
      "source": [
        "## Merging the three tables"
      ]
    },
    {
      "cell_type": "code",
      "metadata": {
        "id": "-PBrXDdMKY3y"
      },
      "source": [
        "merged_df = pd.merge(portfolio, transcript, on='offer_id')\n",
        "merged_df = pd.merge(merged_df, profile, on='customer_id')"
      ],
      "execution_count": 43,
      "outputs": []
    },
    {
      "cell_type": "code",
      "metadata": {
        "colab": {
          "base_uri": "https://localhost:8080/",
          "height": 299
        },
        "id": "SSZ23ugAKY3z",
        "outputId": "1c47c934-f97b-4622-82fb-c230abde803e"
      },
      "source": [
        "merged_df.head()"
      ],
      "execution_count": 44,
      "outputs": [
        {
          "output_type": "execute_result",
          "data": {
            "text/html": [
              "<div>\n",
              "<style scoped>\n",
              "    .dataframe tbody tr th:only-of-type {\n",
              "        vertical-align: middle;\n",
              "    }\n",
              "\n",
              "    .dataframe tbody tr th {\n",
              "        vertical-align: top;\n",
              "    }\n",
              "\n",
              "    .dataframe thead th {\n",
              "        text-align: right;\n",
              "    }\n",
              "</style>\n",
              "<table border=\"1\" class=\"dataframe\">\n",
              "  <thead>\n",
              "    <tr style=\"text-align: right;\">\n",
              "      <th></th>\n",
              "      <th>offer_reward</th>\n",
              "      <th>offer_difficulty</th>\n",
              "      <th>offer_duration</th>\n",
              "      <th>offer_type</th>\n",
              "      <th>offer_id</th>\n",
              "      <th>email</th>\n",
              "      <th>mobile</th>\n",
              "      <th>social</th>\n",
              "      <th>web</th>\n",
              "      <th>customer_id</th>\n",
              "      <th>event</th>\n",
              "      <th>time</th>\n",
              "      <th>reward</th>\n",
              "      <th>amount</th>\n",
              "      <th>gender</th>\n",
              "      <th>Age_group</th>\n",
              "      <th>Income_group</th>\n",
              "      <th>member_since_days</th>\n",
              "    </tr>\n",
              "  </thead>\n",
              "  <tbody>\n",
              "    <tr>\n",
              "      <th>0</th>\n",
              "      <td>10</td>\n",
              "      <td>10</td>\n",
              "      <td>7</td>\n",
              "      <td>bogo</td>\n",
              "      <td>ae264e3637204a6fb9bb56bc8210ddfd</td>\n",
              "      <td>1</td>\n",
              "      <td>1</td>\n",
              "      <td>1</td>\n",
              "      <td>0</td>\n",
              "      <td>4b0da7e80e5945209a1fdddfe813dbe0</td>\n",
              "      <td>offer-received</td>\n",
              "      <td>0</td>\n",
              "      <td>0.0</td>\n",
              "      <td>0.0</td>\n",
              "      <td>M</td>\n",
              "      <td>51-65</td>\n",
              "      <td>80-110K</td>\n",
              "      <td>320</td>\n",
              "    </tr>\n",
              "    <tr>\n",
              "      <th>1</th>\n",
              "      <td>10</td>\n",
              "      <td>10</td>\n",
              "      <td>7</td>\n",
              "      <td>bogo</td>\n",
              "      <td>ae264e3637204a6fb9bb56bc8210ddfd</td>\n",
              "      <td>1</td>\n",
              "      <td>1</td>\n",
              "      <td>1</td>\n",
              "      <td>0</td>\n",
              "      <td>4b0da7e80e5945209a1fdddfe813dbe0</td>\n",
              "      <td>offer-viewed</td>\n",
              "      <td>102</td>\n",
              "      <td>0.0</td>\n",
              "      <td>0.0</td>\n",
              "      <td>M</td>\n",
              "      <td>51-65</td>\n",
              "      <td>80-110K</td>\n",
              "      <td>320</td>\n",
              "    </tr>\n",
              "    <tr>\n",
              "      <th>2</th>\n",
              "      <td>10</td>\n",
              "      <td>10</td>\n",
              "      <td>7</td>\n",
              "      <td>bogo</td>\n",
              "      <td>ae264e3637204a6fb9bb56bc8210ddfd</td>\n",
              "      <td>1</td>\n",
              "      <td>1</td>\n",
              "      <td>1</td>\n",
              "      <td>0</td>\n",
              "      <td>4b0da7e80e5945209a1fdddfe813dbe0</td>\n",
              "      <td>offer-received</td>\n",
              "      <td>504</td>\n",
              "      <td>0.0</td>\n",
              "      <td>0.0</td>\n",
              "      <td>M</td>\n",
              "      <td>51-65</td>\n",
              "      <td>80-110K</td>\n",
              "      <td>320</td>\n",
              "    </tr>\n",
              "    <tr>\n",
              "      <th>3</th>\n",
              "      <td>10</td>\n",
              "      <td>10</td>\n",
              "      <td>7</td>\n",
              "      <td>bogo</td>\n",
              "      <td>ae264e3637204a6fb9bb56bc8210ddfd</td>\n",
              "      <td>1</td>\n",
              "      <td>1</td>\n",
              "      <td>1</td>\n",
              "      <td>0</td>\n",
              "      <td>4b0da7e80e5945209a1fdddfe813dbe0</td>\n",
              "      <td>offer-viewed</td>\n",
              "      <td>510</td>\n",
              "      <td>0.0</td>\n",
              "      <td>0.0</td>\n",
              "      <td>M</td>\n",
              "      <td>51-65</td>\n",
              "      <td>80-110K</td>\n",
              "      <td>320</td>\n",
              "    </tr>\n",
              "    <tr>\n",
              "      <th>4</th>\n",
              "      <td>10</td>\n",
              "      <td>10</td>\n",
              "      <td>7</td>\n",
              "      <td>bogo</td>\n",
              "      <td>ae264e3637204a6fb9bb56bc8210ddfd</td>\n",
              "      <td>1</td>\n",
              "      <td>1</td>\n",
              "      <td>1</td>\n",
              "      <td>0</td>\n",
              "      <td>4b0da7e80e5945209a1fdddfe813dbe0</td>\n",
              "      <td>offer-completed</td>\n",
              "      <td>510</td>\n",
              "      <td>10.0</td>\n",
              "      <td>0.0</td>\n",
              "      <td>M</td>\n",
              "      <td>51-65</td>\n",
              "      <td>80-110K</td>\n",
              "      <td>320</td>\n",
              "    </tr>\n",
              "  </tbody>\n",
              "</table>\n",
              "</div>"
            ],
            "text/plain": [
              "   offer_reward  offer_difficulty  ...  Income_group member_since_days\n",
              "0            10                10  ...       80-110K               320\n",
              "1            10                10  ...       80-110K               320\n",
              "2            10                10  ...       80-110K               320\n",
              "3            10                10  ...       80-110K               320\n",
              "4            10                10  ...       80-110K               320\n",
              "\n",
              "[5 rows x 18 columns]"
            ]
          },
          "metadata": {
            "tags": []
          },
          "execution_count": 44
        }
      ]
    },
    {
      "cell_type": "code",
      "metadata": {
        "colab": {
          "base_uri": "https://localhost:8080/"
        },
        "id": "R4P_p_3pyJCe",
        "outputId": "ce746d23-60ee-47ec-c1f0-741d50207002"
      },
      "source": [
        "merged_df.groupby(['event','offer_type'])['offer_type'].count()"
      ],
      "execution_count": 45,
      "outputs": [
        {
          "output_type": "execute_result",
          "data": {
            "text/plain": [
              "event            offer_type   \n",
              "offer-completed  bogo             15258\n",
              "                 discount         17186\n",
              "offer-received   bogo             26537\n",
              "                 discount         26664\n",
              "                 informational    13300\n",
              "offer-viewed     bogo             22039\n",
              "                 discount         18461\n",
              "                 informational     9360\n",
              "Name: offer_type, dtype: int64"
            ]
          },
          "metadata": {
            "tags": []
          },
          "execution_count": 45
        }
      ]
    },
    {
      "cell_type": "code",
      "metadata": {
        "id": "7JheQ2kyC4Z3"
      },
      "source": [
        "merged_df['event'] = merged_df['event'].map({'offer-received':1, 'offer-viewed':2, 'offer-completed':3})"
      ],
      "execution_count": 46,
      "outputs": []
    },
    {
      "cell_type": "markdown",
      "metadata": {
        "id": "prlFluW_DTpz"
      },
      "source": [
        "## Generating the target variable"
      ]
    },
    {
      "cell_type": "markdown",
      "metadata": {
        "id": "OoDY2yRLDPTV"
      },
      "source": [
        "When a customer completes the offer against an offer_id we will label that as a success. If the status is not in Offer-completed then the cust_id, order_id detail we be considerd as unsuccessful ad targeting."
      ]
    },
    {
      "cell_type": "code",
      "metadata": {
        "id": "QscGXtZ-DCj_"
      },
      "source": [
        "#Create a target variable from event\n",
        "merged_df['Offer_Encashed'] = 0\n",
        "for row in range(merged_df.shape[0]):\n",
        "    current_event = merged_df.at[row,'event']\n",
        "    if current_event == 3:\n",
        "        merged_df.at[row,'Offer_Encashed'] = 1"
      ],
      "execution_count": 47,
      "outputs": []
    },
    {
      "cell_type": "code",
      "metadata": {
        "colab": {
          "base_uri": "https://localhost:8080/"
        },
        "id": "GKDgpvWlUB25",
        "outputId": "87a0d418-0f67-419d-ec37-93032410403c"
      },
      "source": [
        "merged_df.Offer_Encashed.value_counts()"
      ],
      "execution_count": 48,
      "outputs": [
        {
          "output_type": "execute_result",
          "data": {
            "text/plain": [
              "0    116361\n",
              "1     32444\n",
              "Name: Offer_Encashed, dtype: int64"
            ]
          },
          "metadata": {
            "tags": []
          },
          "execution_count": 48
        }
      ]
    },
    {
      "cell_type": "code",
      "metadata": {
        "colab": {
          "base_uri": "https://localhost:8080/",
          "height": 298
        },
        "id": "HDAz8XEWKY3z",
        "outputId": "da91b1f0-b086-4d55-ec80-17871a5f3bfc"
      },
      "source": [
        "merged_df['offer_type'].value_counts().plot.barh(title='Offer Type distribution')"
      ],
      "execution_count": 49,
      "outputs": [
        {
          "output_type": "execute_result",
          "data": {
            "text/plain": [
              "<matplotlib.axes._subplots.AxesSubplot at 0x7ff481fe3b70>"
            ]
          },
          "metadata": {
            "tags": []
          },
          "execution_count": 49
        },
        {
          "output_type": "display_data",
          "data": {
            "image/png": "[encoded data removed]",
            "text/plain": [
              "<Figure size 432x288 with 1 Axes>"
            ]
          },
          "metadata": {
            "tags": [],
            "needs_background": "light"
          }
        }
      ]
    },
    {
      "cell_type": "markdown",
      "metadata": {
        "id": "d6rcHa_qKY3z"
      },
      "source": [
        "Buy One Get One & discount Offer type have similar distribution."
      ]
    },
    {
      "cell_type": "code",
      "metadata": {
        "colab": {
          "base_uri": "https://localhost:8080/",
          "height": 298
        },
        "id": "KUVPTKgcKY3z",
        "outputId": "6a358319-eb78-4ac3-9a65-ffd56e481af8"
      },
      "source": [
        "merged_df['Age_group'].value_counts().plot.barh(title=' Distribution of age groups')"
      ],
      "execution_count": 50,
      "outputs": [
        {
          "output_type": "execute_result",
          "data": {
            "text/plain": [
              "<matplotlib.axes._subplots.AxesSubplot at 0x7ff481fee128>"
            ]
          },
          "metadata": {
            "tags": []
          },
          "execution_count": 50
        },
        {
          "output_type": "display_data",
          "data": {
            "image/png": "[encoded data removed]",
            "text/plain": [
              "<Figure size 432x288 with 1 Axes>"
            ]
          },
          "metadata": {
            "tags": [],
            "needs_background": "light"
          }
        }
      ]
    },
    {
      "cell_type": "markdown",
      "metadata": {
        "id": "sy6KcwqDKY3z"
      },
      "source": [
        "It is quite surprising to see that customers Above 60 use Starbucks application the most, those with age 40-60 are on the second. One would usually think that customers between age 20-45 use app the most, but this is not the case here."
      ]
    },
    {
      "cell_type": "code",
      "metadata": {
        "scrolled": true,
        "colab": {
          "base_uri": "https://localhost:8080/",
          "height": 298
        },
        "id": "oC5rFu-bKY3z",
        "outputId": "b145694f-71df-4367-b9c7-e5ad7219aabb"
      },
      "source": [
        "merged_df['event'].value_counts().plot.barh(title=' Event distribution')"
      ],
      "execution_count": 51,
      "outputs": [
        {
          "output_type": "execute_result",
          "data": {
            "text/plain": [
              "<matplotlib.axes._subplots.AxesSubplot at 0x7ff48200ea20>"
            ]
          },
          "metadata": {
            "tags": []
          },
          "execution_count": 51
        },
        {
          "output_type": "display_data",
          "data": {
            "image/png": "[encoded data removed]",
            "text/plain": [
              "<Figure size 432x288 with 1 Axes>"
            ]
          },
          "metadata": {
            "tags": [],
            "needs_background": "light"
          }
        }
      ]
    },
    {
      "cell_type": "markdown",
      "metadata": {
        "id": "81_JvWMsKY3z"
      },
      "source": [
        "From distribution it follows the sales funnel. \n",
        "Offer received > Offer Viewed > Offer completed."
      ]
    },
    {
      "cell_type": "code",
      "metadata": {
        "colab": {
          "base_uri": "https://localhost:8080/",
          "height": 367
        },
        "id": "2W1QzILtKY3z",
        "outputId": "9024b50e-0d75-426f-c564-421ad982b3e5"
      },
      "source": [
        "plt.figure(figsize=(15, 5))\n",
        "sns.countplot(x=\"Age_group\", hue=\"gender\", data=merged_df)\n",
        "sns.set(style=\"whitegrid\")\n",
        "plt.title('Gender distribution in different age groups')\n",
        "plt.ylabel('No of instances')\n",
        "plt.xlabel('Age Group')\n",
        "plt.legend(title='Gender')"
      ],
      "execution_count": 52,
      "outputs": [
        {
          "output_type": "execute_result",
          "data": {
            "text/plain": [
              "<matplotlib.legend.Legend at 0x7ff48207ae48>"
            ]
          },
          "metadata": {
            "tags": []
          },
          "execution_count": 52
        },
        {
          "output_type": "display_data",
          "data": {
            "image/png": "[encoded data removed]",
            "text/plain": [
              "<Figure size 1080x360 with 1 Axes>"
            ]
          },
          "metadata": {
            "tags": [],
            "needs_background": "light"
          }
        }
      ]
    },
    {
      "cell_type": "markdown",
      "metadata": {
        "id": "GoWQlCq6KY3z"
      },
      "source": [
        "The male customers are more than the female ones in each age group. Buut in above 60 range the distribution is almost 50-50"
      ]
    },
    {
      "cell_type": "code",
      "metadata": {
        "colab": {
          "base_uri": "https://localhost:8080/",
          "height": 372
        },
        "id": "U2RDlC7CKY3z",
        "outputId": "86e02864-614e-45bc-aff5-1a258433ca4d"
      },
      "source": [
        "plt.figure(figsize=(15, 5))\n",
        "sns.countplot(x=\"event\", hue=\"gender\", data=merged_df)\n",
        "plt.title('Distribution of Event Type by Gender ')\n",
        "plt.ylabel('No of instances')\n",
        "plt.xlabel('Event Type')\n",
        "plt.legend(title='Gender')"
      ],
      "execution_count": 53,
      "outputs": [
        {
          "output_type": "execute_result",
          "data": {
            "text/plain": [
              "<matplotlib.legend.Legend at 0x7ff482120828>"
            ]
          },
          "metadata": {
            "tags": []
          },
          "execution_count": 53
        },
        {
          "output_type": "display_data",
          "data": {
            "image/png": "[encoded data removed]",
            "text/plain": [
              "<Figure size 1080x360 with 1 Axes>"
            ]
          },
          "metadata": {
            "tags": []
          }
        }
      ]
    },
    {
      "cell_type": "code",
      "metadata": {
        "colab": {
          "base_uri": "https://localhost:8080/",
          "height": 372
        },
        "id": "jdSzMpc5KY3z",
        "outputId": "d207147b-f25b-4a61-a81b-a44d060379a5"
      },
      "source": [
        "plt.figure(figsize=(15, 5))\n",
        "sns.countplot(x=\"event\", hue=\"offer_type\", data=merged_df)\n",
        "plt.title('Distribution of offer types in events')\n",
        "plt.ylabel('No of instances')\n",
        "plt.xlabel('Event Type')\n",
        "plt.legend(title='Offer Type')"
      ],
      "execution_count": 54,
      "outputs": [
        {
          "output_type": "execute_result",
          "data": {
            "text/plain": [
              "<matplotlib.legend.Legend at 0x7ff482114f28>"
            ]
          },
          "metadata": {
            "tags": []
          },
          "execution_count": 54
        },
        {
          "output_type": "display_data",
          "data": {
            "image/png": "[encoded data removed]",
            "text/plain": [
              "<Figure size 1080x360 with 1 Axes>"
            ]
          },
          "metadata": {
            "tags": []
          }
        }
      ]
    },
    {
      "cell_type": "markdown",
      "metadata": {
        "id": "-Mej51VcKY3z"
      },
      "source": [
        "From the graph we can infer that the discount offer type once viewed are very likely to be completed. "
      ]
    },
    {
      "cell_type": "code",
      "metadata": {
        "colab": {
          "base_uri": "https://localhost:8080/",
          "height": 372
        },
        "id": "X4DVBe_FKY3z",
        "outputId": "bbc88c06-751b-4a27-f257-19b46bb9a219"
      },
      "source": [
        "plt.figure(figsize=(15, 5))\n",
        "sns.countplot(x=\"Age_group\", hue=\"event\", data=merged_df)\n",
        "plt.title('Event type distribution by age group')\n",
        "plt.ylabel('No of instances')\n",
        "plt.xlabel('Age Group')\n",
        "plt.legend(title='Event Type')"
      ],
      "execution_count": 55,
      "outputs": [
        {
          "output_type": "execute_result",
          "data": {
            "text/plain": [
              "<matplotlib.legend.Legend at 0x7ff4821ddac8>"
            ]
          },
          "metadata": {
            "tags": []
          },
          "execution_count": 55
        },
        {
          "output_type": "display_data",
          "data": {
            "image/png": "[encoded data removed]",
            "text/plain": [
              "<Figure size 1080x360 with 1 Axes>"
            ]
          },
          "metadata": {
            "tags": []
          }
        }
      ]
    },
    {
      "cell_type": "markdown",
      "metadata": {
        "id": "9fTyMHk_KY3z"
      },
      "source": [
        "# iv) Build a Machine Learning model to predict response of a customer to an offer"
      ]
    },
    {
      "cell_type": "markdown",
      "metadata": {
        "id": "CCf5t4R_KY3z"
      },
      "source": [
        "## 1. Data Preparation and Cleaning II"
      ]
    },
    {
      "cell_type": "markdown",
      "metadata": {
        "id": "8UpTjMrcKY30"
      },
      "source": [
        "#### Tasks\n",
        "1. Encode categorical data such as gender, offer type and age groups.\n",
        "2. Encode the 'event' data to numerical values:\n",
        "    * offer received ---> 1\n",
        "    * offer viewed ---> 2\n",
        "    * offer completed ---> 3\n",
        "3. Encode offer id.\n",
        "4. Scale and normalize numerical data."
      ]
    },
    {
      "cell_type": "code",
      "metadata": {
        "id": "iG99h0O19O51"
      },
      "source": [
        "dummy = pd.get_dummies(merged_df.offer_type.apply(pd.Series).stack()).sum(level=0)\n",
        "merged_df = pd.concat([merged_df, dummy], axis=1)\n",
        "merged_df.drop(columns='offer_type', inplace=True)"
      ],
      "execution_count": 56,
      "outputs": []
    },
    {
      "cell_type": "code",
      "metadata": {
        "id": "HY5oAnB89sQ8"
      },
      "source": [
        "dummy = pd.get_dummies(merged_df.gender.apply(pd.Series).stack()).sum(level=0)\n",
        "merged_df = pd.concat([merged_df, dummy], axis=1)\n",
        "merged_df.drop(columns='gender', inplace=True)"
      ],
      "execution_count": 57,
      "outputs": []
    },
    {
      "cell_type": "code",
      "metadata": {
        "id": "d6MgvsUQ9zq8"
      },
      "source": [
        "dummy = pd.get_dummies(merged_df.Age_group.apply(pd.Series).stack()).sum(level=0)\n",
        "merged_df = pd.concat([merged_df, dummy], axis=1)\n",
        "merged_df.drop(columns='Age_group', inplace=True)"
      ],
      "execution_count": 58,
      "outputs": []
    },
    {
      "cell_type": "code",
      "metadata": {
        "id": "23mvA8G-sLWS"
      },
      "source": [
        "dummy = pd.get_dummies(merged_df.Income_group.apply(pd.Series).stack()).sum(level=0)\n",
        "merged_df = pd.concat([merged_df, dummy], axis=1)\n",
        "merged_df.drop(columns='Income_group', inplace=True)"
      ],
      "execution_count": 59,
      "outputs": []
    },
    {
      "cell_type": "code",
      "metadata": {
        "id": "GCx01A-H-FVM"
      },
      "source": [
        "offerids = merged_df['offer_id'].unique().tolist()\n",
        "o_mapping = dict( zip(offerids,range(len(offerids))) )\n",
        "merged_df.replace({'offer_id': o_mapping},inplace=True)"
      ],
      "execution_count": 60,
      "outputs": []
    },
    {
      "cell_type": "markdown",
      "metadata": {
        "id": "pAjmMZTTKCR5"
      },
      "source": [
        "Distribution of encashemnt of offer by Age group and gender."
      ]
    },
    {
      "cell_type": "code",
      "metadata": {
        "colab": {
          "base_uri": "https://localhost:8080/",
          "height": 444
        },
        "id": "8aww7VUIGfp-",
        "outputId": "627372fc-f8c8-4b7d-9d0a-72b511af156d"
      },
      "source": [
        "sns.set_style('whitegrid')\n",
        "bar_color= ['r', 'g', 'y', 'c', 'm']\n",
        "fig,ax= plt.subplots(1,3,figsize=(15,5))\n",
        "fig.tight_layout()\n",
        "\n",
        "merged_df[merged_df['Offer_Encashed']==1][['F','M','O']].sum().plot.bar(ax=ax[0], fontsize=10,color=bar_color) \n",
        "ax[0].set_title(\" Offer Encashed - Gender Wise\")\n",
        "ax[0].set_xlabel(\"Gender\")\n",
        "ax[0].set_ylabel(\"No of Encashment\")\n",
        "\n",
        "age_cols=['Under 20','21-35', '36-50', '51-65', 'Above 65']\n",
        "merged_df[merged_df['Offer_Encashed']==1][age_cols].sum().plot.bar(ax=ax[1], fontsize=10,color=bar_color) \n",
        "ax[1].set_title(\"Offer Encashed - Age  Wise\")\n",
        "ax[1].set_xlabel(\"Age Group\")\n",
        "ax[1].set_ylabel(\"No of Encashment\")\n",
        "\n",
        "income_cols=['30-50K', '50-80K', '80-110K', 'Above 110K']\n",
        "merged_df[merged_df['Offer_Encashed']==1][income_cols].sum().plot.bar(ax=ax[2], fontsize=10, color=bar_color) \n",
        "ax[2].set_title(\"Offer Encashed - Income  Wise\")\n",
        "ax[2].set_xlabel(\"Income\")\n",
        "ax[2].set_ylabel(\"No of Encashment\")\n",
        "plt.show()"
      ],
      "execution_count": 61,
      "outputs": [
        {
          "output_type": "display_data",
          "data": {
            "image/png": "[encoded data removed]",
            "text/plain": [
              "<Figure size 1080x360 with 3 Axes>"
            ]
          },
          "metadata": {
            "tags": []
          }
        }
      ]
    },
    {
      "cell_type": "code",
      "metadata": {
        "id": "VCMYUiHQgOPH"
      },
      "source": [
        "#drop customer_id,  time, amount, event\n",
        "merged_df.drop(['customer_id', 'time', 'amount', 'event', 'reward'], axis=1, inplace=True)"
      ],
      "execution_count": 62,
      "outputs": []
    },
    {
      "cell_type": "code",
      "metadata": {
        "id": "m82u7-sK-yQY"
      },
      "source": [
        "from sklearn.preprocessing import MinMaxScaler\n",
        "scaler = MinMaxScaler()\n",
        "numerical = ['offer_difficulty', 'offer_duration', 'offer_reward', 'member_since_days']\n",
        "merged_df[numerical] = scaler.fit_transform(merged_df[numerical])"
      ],
      "execution_count": 63,
      "outputs": []
    },
    {
      "cell_type": "code",
      "metadata": {
        "id": "vZXcECzTw50B"
      },
      "source": [
        "merged_df.drop_duplicates(inplace=True)"
      ],
      "execution_count": 64,
      "outputs": []
    },
    {
      "cell_type": "code",
      "metadata": {
        "colab": {
          "base_uri": "https://localhost:8080/",
          "height": 232
        },
        "id": "XRxHZo9zv_cs",
        "outputId": "ffd66204-59e8-4d4d-c189-83a9dcf74706"
      },
      "source": [
        "merged_df.head()"
      ],
      "execution_count": 65,
      "outputs": [
        {
          "output_type": "execute_result",
          "data": {
            "text/html": [
              "<div>\n",
              "<style scoped>\n",
              "    .dataframe tbody tr th:only-of-type {\n",
              "        vertical-align: middle;\n",
              "    }\n",
              "\n",
              "    .dataframe tbody tr th {\n",
              "        vertical-align: top;\n",
              "    }\n",
              "\n",
              "    .dataframe thead th {\n",
              "        text-align: right;\n",
              "    }\n",
              "</style>\n",
              "<table border=\"1\" class=\"dataframe\">\n",
              "  <thead>\n",
              "    <tr style=\"text-align: right;\">\n",
              "      <th></th>\n",
              "      <th>offer_reward</th>\n",
              "      <th>offer_difficulty</th>\n",
              "      <th>offer_duration</th>\n",
              "      <th>offer_id</th>\n",
              "      <th>email</th>\n",
              "      <th>mobile</th>\n",
              "      <th>social</th>\n",
              "      <th>web</th>\n",
              "      <th>member_since_days</th>\n",
              "      <th>Offer_Encashed</th>\n",
              "      <th>bogo</th>\n",
              "      <th>discount</th>\n",
              "      <th>informational</th>\n",
              "      <th>F</th>\n",
              "      <th>M</th>\n",
              "      <th>O</th>\n",
              "      <th>21-35</th>\n",
              "      <th>36-50</th>\n",
              "      <th>51-65</th>\n",
              "      <th>Above 65</th>\n",
              "      <th>Under 20</th>\n",
              "      <th>30-50K</th>\n",
              "      <th>50-80K</th>\n",
              "      <th>80-110K</th>\n",
              "      <th>Above 110K</th>\n",
              "    </tr>\n",
              "  </thead>\n",
              "  <tbody>\n",
              "    <tr>\n",
              "      <th>0</th>\n",
              "      <td>1.0</td>\n",
              "      <td>0.5</td>\n",
              "      <td>0.571429</td>\n",
              "      <td>0</td>\n",
              "      <td>1</td>\n",
              "      <td>1</td>\n",
              "      <td>1</td>\n",
              "      <td>0</td>\n",
              "      <td>0.175535</td>\n",
              "      <td>0</td>\n",
              "      <td>1</td>\n",
              "      <td>0</td>\n",
              "      <td>0</td>\n",
              "      <td>0</td>\n",
              "      <td>1</td>\n",
              "      <td>0</td>\n",
              "      <td>0</td>\n",
              "      <td>0</td>\n",
              "      <td>1</td>\n",
              "      <td>0</td>\n",
              "      <td>0</td>\n",
              "      <td>0</td>\n",
              "      <td>0</td>\n",
              "      <td>1</td>\n",
              "      <td>0</td>\n",
              "    </tr>\n",
              "    <tr>\n",
              "      <th>4</th>\n",
              "      <td>1.0</td>\n",
              "      <td>0.5</td>\n",
              "      <td>0.571429</td>\n",
              "      <td>0</td>\n",
              "      <td>1</td>\n",
              "      <td>1</td>\n",
              "      <td>1</td>\n",
              "      <td>0</td>\n",
              "      <td>0.175535</td>\n",
              "      <td>1</td>\n",
              "      <td>1</td>\n",
              "      <td>0</td>\n",
              "      <td>0</td>\n",
              "      <td>0</td>\n",
              "      <td>1</td>\n",
              "      <td>0</td>\n",
              "      <td>0</td>\n",
              "      <td>0</td>\n",
              "      <td>1</td>\n",
              "      <td>0</td>\n",
              "      <td>0</td>\n",
              "      <td>0</td>\n",
              "      <td>0</td>\n",
              "      <td>1</td>\n",
              "      <td>0</td>\n",
              "    </tr>\n",
              "    <tr>\n",
              "      <th>5</th>\n",
              "      <td>0.0</td>\n",
              "      <td>0.0</td>\n",
              "      <td>0.142857</td>\n",
              "      <td>1</td>\n",
              "      <td>1</td>\n",
              "      <td>1</td>\n",
              "      <td>0</td>\n",
              "      <td>1</td>\n",
              "      <td>0.175535</td>\n",
              "      <td>0</td>\n",
              "      <td>0</td>\n",
              "      <td>0</td>\n",
              "      <td>1</td>\n",
              "      <td>0</td>\n",
              "      <td>1</td>\n",
              "      <td>0</td>\n",
              "      <td>0</td>\n",
              "      <td>0</td>\n",
              "      <td>1</td>\n",
              "      <td>0</td>\n",
              "      <td>0</td>\n",
              "      <td>0</td>\n",
              "      <td>0</td>\n",
              "      <td>1</td>\n",
              "      <td>0</td>\n",
              "    </tr>\n",
              "    <tr>\n",
              "      <th>7</th>\n",
              "      <td>0.5</td>\n",
              "      <td>1.0</td>\n",
              "      <td>1.000000</td>\n",
              "      <td>2</td>\n",
              "      <td>1</td>\n",
              "      <td>0</td>\n",
              "      <td>0</td>\n",
              "      <td>1</td>\n",
              "      <td>0.175535</td>\n",
              "      <td>0</td>\n",
              "      <td>0</td>\n",
              "      <td>1</td>\n",
              "      <td>0</td>\n",
              "      <td>0</td>\n",
              "      <td>1</td>\n",
              "      <td>0</td>\n",
              "      <td>0</td>\n",
              "      <td>0</td>\n",
              "      <td>1</td>\n",
              "      <td>0</td>\n",
              "      <td>0</td>\n",
              "      <td>0</td>\n",
              "      <td>0</td>\n",
              "      <td>1</td>\n",
              "      <td>0</td>\n",
              "    </tr>\n",
              "    <tr>\n",
              "      <th>9</th>\n",
              "      <td>0.5</td>\n",
              "      <td>1.0</td>\n",
              "      <td>1.000000</td>\n",
              "      <td>2</td>\n",
              "      <td>1</td>\n",
              "      <td>0</td>\n",
              "      <td>0</td>\n",
              "      <td>1</td>\n",
              "      <td>0.175535</td>\n",
              "      <td>1</td>\n",
              "      <td>0</td>\n",
              "      <td>1</td>\n",
              "      <td>0</td>\n",
              "      <td>0</td>\n",
              "      <td>1</td>\n",
              "      <td>0</td>\n",
              "      <td>0</td>\n",
              "      <td>0</td>\n",
              "      <td>1</td>\n",
              "      <td>0</td>\n",
              "      <td>0</td>\n",
              "      <td>0</td>\n",
              "      <td>0</td>\n",
              "      <td>1</td>\n",
              "      <td>0</td>\n",
              "    </tr>\n",
              "  </tbody>\n",
              "</table>\n",
              "</div>"
            ],
            "text/plain": [
              "   offer_reward  offer_difficulty  offer_duration  ...  50-80K  80-110K  Above 110K\n",
              "0           1.0               0.5        0.571429  ...       0        1           0\n",
              "4           1.0               0.5        0.571429  ...       0        1           0\n",
              "5           0.0               0.0        0.142857  ...       0        1           0\n",
              "7           0.5               1.0        1.000000  ...       0        1           0\n",
              "9           0.5               1.0        1.000000  ...       0        1           0\n",
              "\n",
              "[5 rows x 25 columns]"
            ]
          },
          "metadata": {
            "tags": []
          },
          "execution_count": 65
        }
      ]
    },
    {
      "cell_type": "markdown",
      "metadata": {
        "id": "jgp4-V4tKY30"
      },
      "source": [
        "## 2. Split train and test data"
      ]
    },
    {
      "cell_type": "markdown",
      "metadata": {
        "id": "7nOPLbV2KY30"
      },
      "source": [
        "Final data is ready after tasks 1-5. We will now split the data (both features and their labels) into training and test sets, taking 60% of data for training and 40% for testing."
      ]
    },
    {
      "cell_type": "code",
      "metadata": {
        "id": "nji7lAVrKY30"
      },
      "source": [
        "data = merged_df.drop('Offer_Encashed', axis=1)\n",
        "label = merged_df['Offer_Encashed']"
      ],
      "execution_count": 66,
      "outputs": []
    },
    {
      "cell_type": "code",
      "metadata": {
        "colab": {
          "base_uri": "https://localhost:8080/"
        },
        "id": "T-WICMINKY30",
        "outputId": "09e6ca12-b95f-4197-9f34-bcc1d9a09d6a"
      },
      "source": [
        "X_train, X_test, y_train, y_test = train_test_split(data, label, test_size = 0.3, random_state = 4756)\n",
        "print(\"Train: {} Test {}\".format(X_train.shape[0], X_test.shape[0]))"
      ],
      "execution_count": 67,
      "outputs": [
        {
          "output_type": "stream",
          "text": [
            "Train: 52300 Test 22415\n"
          ],
          "name": "stdout"
        }
      ]
    },
    {
      "cell_type": "markdown",
      "metadata": {
        "id": "Mr5dgCSGKY30"
      },
      "source": [
        "## Model training and testing"
      ]
    },
    {
      "cell_type": "markdown",
      "metadata": {
        "id": "bacqBxTdKY30"
      },
      "source": [
        "### Metrics"
      ]
    },
    {
      "cell_type": "markdown",
      "metadata": {
        "id": "1DoJoo2WKY30"
      },
      "source": [
        "We will consider the F1 score as the model metric to assess the quality of the approach and determine which model gives the best results. It can be interpreted as the weighted average of the precision and recall. The traditional or balanced F-score (F1 score) is the harmonic mean of precision and recall, where an F1 score reaches its best value at 100 and worst at 0."
      ]
    },
    {
      "cell_type": "code",
      "metadata": {
        "id": "e-bUxk8vKY30"
      },
      "source": [
        "def get_model_scores(classifier):\n",
        "    train_prediction =  (classifier.fit(X_train, y_train)).predict(X_train)\n",
        "    test_predictions = (classifier.fit(X_train, y_train)).predict(X_test)\n",
        "    f1_train =  accuracy_score(y_train, train_prediction)*100\n",
        "    f1_test = fbeta_score(y_test, test_predictions, beta = 0.5, average='micro' )*100\n",
        "    clf_name = classifier.__class__.__name__\n",
        "    \n",
        "    return f1_train, f1_test, clf_name"
      ],
      "execution_count": 68,
      "outputs": []
    },
    {
      "cell_type": "markdown",
      "metadata": {
        "id": "_NukIq6KKY30"
      },
      "source": [
        "### LogisticRegression (Benchmark)"
      ]
    },
    {
      "cell_type": "markdown",
      "metadata": {
        "id": "dDhX0WSfKY30"
      },
      "source": [
        "I am using LogisticRegression classifier to build the benchmark, and evaluate the model result by the F1 score metric."
      ]
    },
    {
      "cell_type": "code",
      "metadata": {
        "id": "0dxtXOSzKY30"
      },
      "source": [
        "lr_clf = LogisticRegression(random_state = 10)\n",
        "lr_f1_train, lr_f1_test, lr_model = get_model_scores(lr_clf)"
      ],
      "execution_count": 69,
      "outputs": []
    },
    {
      "cell_type": "code",
      "metadata": {
        "id": "_NiUi2AFKY30"
      },
      "source": [
        "linear = {'Benchmark Model': [ lr_model], 'F1-Score(Training)':[lr_f1_train], 'F1-Score(Test)': [lr_f1_test]}\n",
        "benchmark = pd.DataFrame(linear)"
      ],
      "execution_count": 70,
      "outputs": []
    },
    {
      "cell_type": "code",
      "metadata": {
        "colab": {
          "base_uri": "https://localhost:8080/",
          "height": 77
        },
        "id": "nuNo5OnMKY30",
        "outputId": "73d18147-c0c6-4fa5-f9e5-2e5aba006139"
      },
      "source": [
        "benchmark"
      ],
      "execution_count": 71,
      "outputs": [
        {
          "output_type": "execute_result",
          "data": {
            "text/html": [
              "<div>\n",
              "<style scoped>\n",
              "    .dataframe tbody tr th:only-of-type {\n",
              "        vertical-align: middle;\n",
              "    }\n",
              "\n",
              "    .dataframe tbody tr th {\n",
              "        vertical-align: top;\n",
              "    }\n",
              "\n",
              "    .dataframe thead th {\n",
              "        text-align: right;\n",
              "    }\n",
              "</style>\n",
              "<table border=\"1\" class=\"dataframe\">\n",
              "  <thead>\n",
              "    <tr style=\"text-align: right;\">\n",
              "      <th></th>\n",
              "      <th>Benchmark Model</th>\n",
              "      <th>F1-Score(Training)</th>\n",
              "      <th>F1-Score(Test)</th>\n",
              "    </tr>\n",
              "  </thead>\n",
              "  <tbody>\n",
              "    <tr>\n",
              "      <th>0</th>\n",
              "      <td>LogisticRegression</td>\n",
              "      <td>64.90631</td>\n",
              "      <td>65.353558</td>\n",
              "    </tr>\n",
              "  </tbody>\n",
              "</table>\n",
              "</div>"
            ],
            "text/plain": [
              "      Benchmark Model  F1-Score(Training)  F1-Score(Test)\n",
              "0  LogisticRegression            64.90631       65.353558"
            ]
          },
          "metadata": {
            "tags": []
          },
          "execution_count": 71
        }
      ]
    },
    {
      "cell_type": "markdown",
      "metadata": {
        "id": "WUlxm7JNKY30"
      },
      "source": [
        "### RandomForestClassifier"
      ]
    },
    {
      "cell_type": "code",
      "metadata": {
        "id": "D5Fq-hdsKY30"
      },
      "source": [
        "rf_clf = RandomForestClassifier(random_state = 10, criterion='gini', min_samples_leaf=10, min_samples_split=2, n_estimators=100)\n",
        "rf_f1_train, rf_f1_test, rf_model = get_model_scores(rf_clf)"
      ],
      "execution_count": 72,
      "outputs": []
    },
    {
      "cell_type": "markdown",
      "metadata": {
        "id": "umwCwr6IKY30"
      },
      "source": [
        "### DecisionTreeClassifier"
      ]
    },
    {
      "cell_type": "code",
      "metadata": {
        "id": "p8aTSk0dKY30"
      },
      "source": [
        "dt_clf = DecisionTreeClassifier(random_state = 10)\n",
        "dt_f1_train, dt_f1_test, dt_model = get_model_scores(dt_clf)"
      ],
      "execution_count": 73,
      "outputs": []
    },
    {
      "cell_type": "markdown",
      "metadata": {
        "id": "wHwSbYJL2i-f"
      },
      "source": [
        "### K Nearest Neighbors"
      ]
    },
    {
      "cell_type": "code",
      "metadata": {
        "id": "OadN-XjC1hVz"
      },
      "source": [
        "knn_clf = KNeighborsClassifier(n_neighbors = 5)\n",
        "knn_f1_train, knn_f1_test, knn_model = get_model_scores(knn_clf)"
      ],
      "execution_count": 74,
      "outputs": []
    },
    {
      "cell_type": "markdown",
      "metadata": {
        "id": "YtRL_VVBKY30"
      },
      "source": [
        "## Classifier Evaluation Summary"
      ]
    },
    {
      "cell_type": "code",
      "metadata": {
        "id": "_xiECr0sKY30"
      },
      "source": [
        "performance_summary = {'Classifier': [lr_model, rf_model, dt_model, knn_model], \n",
        "          'F1-Score':[lr_f1_train, rf_f1_train, dt_f1_train, knn_f1_train] }\n",
        "          \n",
        "performance_summary = pd.DataFrame(performance_summary)"
      ],
      "execution_count": 75,
      "outputs": []
    },
    {
      "cell_type": "code",
      "metadata": {
        "colab": {
          "base_uri": "https://localhost:8080/",
          "height": 166
        },
        "id": "n9Sr0DwcKY30",
        "outputId": "3010b0e9-4be6-4bed-e33d-3622bff16374"
      },
      "source": [
        "performance_summary"
      ],
      "execution_count": 76,
      "outputs": [
        {
          "output_type": "execute_result",
          "data": {
            "text/html": [
              "<div>\n",
              "<style scoped>\n",
              "    .dataframe tbody tr th:only-of-type {\n",
              "        vertical-align: middle;\n",
              "    }\n",
              "\n",
              "    .dataframe tbody tr th {\n",
              "        vertical-align: top;\n",
              "    }\n",
              "\n",
              "    .dataframe thead th {\n",
              "        text-align: right;\n",
              "    }\n",
              "</style>\n",
              "<table border=\"1\" class=\"dataframe\">\n",
              "  <thead>\n",
              "    <tr style=\"text-align: right;\">\n",
              "      <th></th>\n",
              "      <th>Classifier</th>\n",
              "      <th>F1-Score</th>\n",
              "    </tr>\n",
              "  </thead>\n",
              "  <tbody>\n",
              "    <tr>\n",
              "      <th>0</th>\n",
              "      <td>LogisticRegression</td>\n",
              "      <td>64.906310</td>\n",
              "    </tr>\n",
              "    <tr>\n",
              "      <th>1</th>\n",
              "      <td>RandomForestClassifier</td>\n",
              "      <td>67.497132</td>\n",
              "    </tr>\n",
              "    <tr>\n",
              "      <th>2</th>\n",
              "      <td>DecisionTreeClassifier</td>\n",
              "      <td>75.458891</td>\n",
              "    </tr>\n",
              "    <tr>\n",
              "      <th>3</th>\n",
              "      <td>KNeighborsClassifier</td>\n",
              "      <td>69.451243</td>\n",
              "    </tr>\n",
              "  </tbody>\n",
              "</table>\n",
              "</div>"
            ],
            "text/plain": [
              "               Classifier   F1-Score\n",
              "0      LogisticRegression  64.906310\n",
              "1  RandomForestClassifier  67.497132\n",
              "2  DecisionTreeClassifier  75.458891\n",
              "3    KNeighborsClassifier  69.451243"
            ]
          },
          "metadata": {
            "tags": []
          },
          "execution_count": 76
        }
      ]
    }
  ]
}